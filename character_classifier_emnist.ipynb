{
 "cells": [
  {
   "cell_type": "code",
   "execution_count": 1,
   "metadata": {},
   "outputs": [],
   "source": [
    "import tensorflow as tf\n",
    "\n",
    "# from fg import freeze_graph\n",
    "\n",
    "import numpy as np\n",
    "from mnist import MNIST\n",
    "\n",
    "mndata = MNIST('data/gzip')\n",
    "#This will load the train and test data\n",
    "X_train, y_train = mndata.load('data/gzip/emnist-byclass-train-images-idx3-ubyte',\n",
    "                               'data/gzip/emnist-byclass-train-labels-idx1-ubyte')\n",
    "X_test, y_test = mndata.load('data/gzip/emnist-byclass-test-images-idx3-ubyte',\n",
    "                             'data/gzip/emnist-byclass-test-labels-idx1-ubyte')\n",
    "\n",
    "# Convert data to numpy arrays and normalize images to the interval [0, 1]\n",
    "X_train = np.array(X_train) / 255.0\n",
    "y_train = np.array(y_train)\n",
    "X_test = np.array(X_test) / 255.0\n",
    "y_test = np.array(y_test)"
   ]
  },
  {
   "cell_type": "code",
   "execution_count": 2,
   "metadata": {},
   "outputs": [],
   "source": [
    "#Reshaping all images into 28*28 for pre-processing\n",
    "X_train = X_train.reshape(X_train.shape[0], 28, 28)\n",
    "X_test = X_test.reshape(X_test.shape[0], 28, 28)"
   ]
  },
  {
   "cell_type": "code",
   "execution_count": 3,
   "metadata": {},
   "outputs": [
    {
     "data": {
      "text/plain": [
       "<Figure size 640x480 with 1 Axes>"
      ]
     },
     "metadata": {},
     "output_type": "display_data"
    }
   ],
   "source": [
    "from matplotlib import pyplot as plt\n",
    "#Display a random image\n",
    "plt.imshow(X_train[0])\n",
    "plt.show()"
   ]
  },
  {
   "cell_type": "code",
   "execution_count": 4,
   "metadata": {
    "scrolled": false
   },
   "outputs": [
    {
     "name": "stdout",
     "output_type": "stream",
     "text": [
      "[[0.         0.         0.         0.         0.         0.\n",
      "  0.         0.         0.         0.         0.         0.\n",
      "  0.         0.         0.         0.         0.         0.\n",
      "  0.         0.         0.         0.         0.         0.\n",
      "  0.         0.         0.         0.        ]\n",
      " [0.         0.         0.         0.         0.         0.\n",
      "  0.         0.         0.         0.         0.         0.\n",
      "  0.         0.         0.         0.         0.         0.\n",
      "  0.         0.         0.         0.         0.         0.\n",
      "  0.         0.         0.         0.        ]\n",
      " [0.         0.         0.         0.         0.         0.\n",
      "  0.         0.         0.         0.         0.         0.\n",
      "  0.         0.         0.         0.         0.         0.\n",
      "  0.         0.         0.         0.         0.         0.\n",
      "  0.         0.         0.         0.        ]\n",
      " [0.         0.         0.         0.         0.         0.\n",
      "  0.         0.         0.         0.         0.         0.\n",
      "  0.         0.         0.         0.         0.         0.\n",
      "  0.         0.         0.         0.         0.         0.\n",
      "  0.         0.         0.         0.        ]\n",
      " [0.         0.         0.         0.         0.         0.\n",
      "  0.         0.         0.         0.         0.         0.\n",
      "  0.         0.         0.         0.         0.         0.\n",
      "  0.         0.         0.         0.         0.         0.\n",
      "  0.         0.         0.         0.        ]\n",
      " [0.         0.         0.         0.         0.         0.\n",
      "  0.         0.         0.         0.         0.         0.\n",
      "  0.         0.         0.         0.         0.         0.\n",
      "  0.         0.         0.01568627 0.01568627 0.01568627 0.\n",
      "  0.         0.         0.         0.        ]\n",
      " [0.         0.         0.         0.         0.         0.\n",
      "  0.         0.         0.         0.         0.         0.\n",
      "  0.         0.         0.         0.00392157 0.07843137 0.1254902\n",
      "  0.14509804 0.2        0.44705882 0.49019608 0.44705882 0.17647059\n",
      "  0.01960784 0.         0.         0.        ]\n",
      " [0.         0.         0.         0.         0.         0.\n",
      "  0.         0.         0.         0.         0.         0.\n",
      "  0.         0.00784314 0.03529412 0.18431373 0.62352941 0.79215686\n",
      "  0.85098039 0.87058824 0.96078431 0.97647059 0.96078431 0.76078431\n",
      "  0.17647059 0.         0.         0.        ]\n",
      " [0.         0.         0.         0.         0.         0.\n",
      "  0.         0.         0.         0.         0.         0.00784314\n",
      "  0.04313725 0.30196078 0.54509804 0.81568627 0.96862745 0.99215686\n",
      "  0.99607843 0.98823529 0.98431373 0.99607843 0.99607843 0.96078431\n",
      "  0.45098039 0.01568627 0.         0.        ]\n",
      " [0.         0.         0.         0.         0.         0.\n",
      "  0.         0.         0.         0.         0.03137255 0.08235294\n",
      "  0.20392157 0.62352941 0.8627451  0.96470588 0.99607843 0.99607843\n",
      "  0.98823529 0.92941176 0.89019608 0.98039216 0.99607843 0.98039216\n",
      "  0.5372549  0.03137255 0.         0.        ]\n",
      " [0.         0.         0.         0.         0.         0.\n",
      "  0.         0.         0.00392157 0.12941176 0.49411765 0.66666667\n",
      "  0.8627451  0.96862745 0.99607843 0.99607843 0.96862745 0.91764706\n",
      "  0.80392157 0.77254902 0.70588235 0.94509804 0.99215686 0.98431373\n",
      "  0.62352941 0.0627451  0.         0.        ]\n",
      " [0.         0.         0.         0.         0.         0.\n",
      "  0.         0.00392157 0.1372549  0.63921569 0.95686275 0.98431373\n",
      "  0.99607843 0.99607843 0.96862745 0.86666667 0.70196078 0.55686275\n",
      "  0.72941176 0.96470588 0.98431373 0.99607843 0.99607843 0.98039216\n",
      "  0.50196078 0.01960784 0.         0.        ]\n",
      " [0.         0.         0.         0.         0.         0.\n",
      "  0.01176471 0.14117647 0.63921569 0.96078431 0.99607843 0.99607843\n",
      "  0.98823529 0.95294118 0.64313725 0.24313725 0.56078431 0.79215686\n",
      "  0.96862745 0.99607843 0.99607843 0.99607843 0.99607843 0.95294118\n",
      "  0.44313725 0.01568627 0.         0.        ]\n",
      " [0.         0.         0.         0.         0.00392157 0.12941176\n",
      "  0.30980392 0.68627451 0.96470588 0.99607843 0.99607843 0.98039216\n",
      "  0.7372549  0.45098039 0.14117647 0.31372549 0.8627451  0.96862745\n",
      "  0.99607843 0.99607843 1.         0.99607843 0.98823529 0.69411765\n",
      "  0.13333333 0.         0.         0.        ]\n",
      " [0.         0.         0.         0.         0.03921569 0.35686275\n",
      "  0.62352941 0.90980392 0.99215686 0.99607843 0.96078431 0.90196078\n",
      "  0.50196078 0.14117647 0.0627451  0.49803922 0.95686275 0.99215686\n",
      "  0.99607843 1.         1.         0.99607843 0.98039216 0.54509804\n",
      "  0.04313725 0.         0.         0.        ]\n",
      " [0.         0.         0.00392157 0.12941176 0.49803922 0.86666667\n",
      "  0.96470588 0.99607843 0.99215686 0.86666667 0.50196078 0.3254902\n",
      "  0.07843137 0.00392157 0.18039216 0.81568627 0.99607843 0.99607843\n",
      "  1.         1.         0.99607843 0.98431373 0.90980392 0.32156863\n",
      "  0.00784314 0.         0.         0.        ]\n",
      " [0.         0.         0.07843137 0.61960784 0.95686275 0.99607843\n",
      "  0.99607843 0.96862745 0.81176471 0.35686275 0.03921569 0.01176471\n",
      "  0.         0.01568627 0.44705882 0.96078431 0.99607843 0.99607843\n",
      "  1.         1.         0.99607843 0.90980392 0.67058824 0.08627451\n",
      "  0.         0.         0.         0.        ]\n",
      " [0.         0.         0.14117647 0.82745098 0.98431373 0.98039216\n",
      "  0.95294118 0.63921569 0.18431373 0.02745098 0.         0.\n",
      "  0.         0.01960784 0.50196078 0.98039216 0.99607843 1.\n",
      "  1.         0.99607843 0.98039216 0.66666667 0.3254902  0.01176471\n",
      "  0.         0.         0.         0.        ]\n",
      " [0.         0.         0.07058824 0.43137255 0.61960784 0.5372549\n",
      "  0.45098039 0.12941176 0.00392157 0.         0.         0.\n",
      "  0.         0.0627451  0.62352941 0.98431373 0.99607843 0.99607843\n",
      "  0.99607843 0.98039216 0.72941176 0.2627451  0.07843137 0.\n",
      "  0.         0.         0.         0.        ]\n",
      " [0.         0.         0.01960784 0.12941176 0.27058824 0.18823529\n",
      "  0.13333333 0.02745098 0.         0.         0.         0.\n",
      "  0.         0.0627451  0.61568627 0.98431373 0.99607843 0.99607843\n",
      "  0.98431373 0.90196078 0.49803922 0.08627451 0.01960784 0.\n",
      "  0.         0.         0.         0.        ]\n",
      " [0.         0.         0.         0.         0.00392157 0.\n",
      "  0.         0.         0.         0.         0.         0.\n",
      "  0.         0.01176471 0.30588235 0.80784314 0.95686275 0.95294118\n",
      "  0.68627451 0.3254902  0.07843137 0.         0.         0.\n",
      "  0.         0.         0.         0.        ]\n",
      " [0.         0.         0.         0.         0.         0.\n",
      "  0.         0.         0.         0.         0.         0.\n",
      "  0.         0.         0.02745098 0.18039216 0.43921569 0.43529412\n",
      "  0.13333333 0.01176471 0.         0.         0.         0.\n",
      "  0.         0.         0.         0.        ]\n",
      " [0.         0.         0.         0.         0.         0.\n",
      "  0.         0.         0.         0.         0.         0.\n",
      "  0.         0.         0.         0.         0.01176471 0.01176471\n",
      "  0.         0.         0.         0.         0.         0.\n",
      "  0.         0.         0.         0.        ]\n",
      " [0.         0.         0.         0.         0.         0.\n",
      "  0.         0.         0.         0.         0.         0.\n",
      "  0.         0.         0.         0.         0.         0.\n",
      "  0.         0.         0.         0.         0.         0.\n",
      "  0.         0.         0.         0.        ]\n",
      " [0.         0.         0.         0.         0.         0.\n",
      "  0.         0.         0.         0.         0.         0.\n",
      "  0.         0.         0.         0.         0.         0.\n",
      "  0.         0.         0.         0.         0.         0.\n",
      "  0.         0.         0.         0.        ]\n",
      " [0.         0.         0.         0.         0.         0.\n",
      "  0.         0.         0.         0.         0.         0.\n",
      "  0.         0.         0.         0.         0.         0.\n",
      "  0.         0.         0.         0.         0.         0.\n",
      "  0.         0.         0.         0.        ]\n",
      " [0.         0.         0.         0.         0.         0.\n",
      "  0.         0.         0.         0.         0.         0.\n",
      "  0.         0.         0.         0.         0.         0.\n",
      "  0.         0.         0.         0.         0.         0.\n",
      "  0.         0.         0.         0.        ]\n",
      " [0.         0.         0.         0.         0.         0.\n",
      "  0.         0.         0.         0.         0.         0.\n",
      "  0.         0.         0.         0.         0.         0.\n",
      "  0.         0.         0.         0.         0.         0.\n",
      "  0.         0.         0.         0.        ]]\n"
     ]
    }
   ],
   "source": [
    "#Y'all can see how an image array looks like. all float values b/w 0 and 1\n",
    "m = X_train[2]\n",
    "print(m)"
   ]
  },
  {
   "cell_type": "code",
   "execution_count": 5,
   "metadata": {},
   "outputs": [
    {
     "name": "stdout",
     "output_type": "stream",
     "text": [
      "Process Complete: Rotated and reversed test and train images!\n"
     ]
    },
    {
     "data": {
      "image/png": "[encoded data removed]",
      "text/plain": [
       "<Figure size 432x288 with 1 Axes>"
      ]
     },
     "metadata": {
      "needs_background": "light"
     },
     "output_type": "display_data"
    }
   ],
   "source": [
    "#for train data\n",
    "for t in range(697932):\n",
    "    X_train[t]=np.transpose(X_train[t])\n",
    "    \n",
    "#checking\n",
    "plt.imshow(X_train[0])\n",
    "plt.show\n",
    "\n",
    "#for test data  \n",
    "for t in range(116323):\n",
    "    X_test[t]=np.transpose(X_test[t])\n",
    "\n",
    "#checking\n",
    "plt.imshow(X_test[1])\n",
    "plt.show\n",
    "\n",
    "print('Process Complete: Rotated and reversed test and train images!')"
   ]
  },
  {
   "cell_type": "code",
   "execution_count": 6,
   "metadata": {},
   "outputs": [
    {
     "data": {
      "image/png": "[encoded data removed]",
      "text/plain": [
       "<Figure size 432x288 with 1 Axes>"
      ]
     },
     "metadata": {
      "needs_background": "light"
     },
     "output_type": "display_data"
    }
   ],
   "source": [
    "#Checking the last train image, just to be sure!\n",
    "m = X_train[697931]\n",
    "plt.imshow(m)\n",
    "plt.show()"
   ]
  },
  {
   "cell_type": "code",
   "execution_count": 7,
   "metadata": {},
   "outputs": [],
   "source": [
    "X_train = X_train.reshape(X_train.shape[0], 784,1)\n",
    "X_test = X_test.reshape(X_test.shape[0], 784,1)"
   ]
  },
  {
   "cell_type": "code",
   "execution_count": 8,
   "metadata": {},
   "outputs": [
    {
     "name": "stderr",
     "output_type": "stream",
     "text": [
      "Using TensorFlow backend.\n"
     ]
    },
    {
     "name": "stdout",
     "output_type": "stream",
     "text": [
      "WARNING:tensorflow:From /opt/anaconda/lib/python3.7/site-packages/tensorflow/python/framework/op_def_library.py:263: colocate_with (from tensorflow.python.framework.ops) is deprecated and will be removed in a future version.\n",
      "Instructions for updating:\n",
      "Colocations handled automatically by placer.\n",
      "WARNING:tensorflow:From /opt/anaconda/lib/python3.7/site-packages/keras/backend/tensorflow_backend.py:3445: calling dropout (from tensorflow.python.ops.nn_ops) with keep_prob is deprecated and will be removed in a future version.\n",
      "Instructions for updating:\n",
      "Please use `rate` instead of `keep_prob`. Rate should be set to `rate = 1 - keep_prob`.\n"
     ]
    }
   ],
   "source": [
    "from keras.models import Sequential\n",
    "from keras import optimizers\n",
    "from keras.layers import Convolution2D, MaxPooling2D, Dropout, Flatten, Dense, Reshape, LSTM\n",
    "from keras import backend as K\n",
    "from keras.constraints import maxnorm\n",
    "\n",
    "def resh(ipar):\n",
    "    opar = []\n",
    "    for image in ipar:\n",
    "        opar.append(image.reshape(-1))\n",
    "    return np.asarray(opar)\n",
    "\n",
    "from keras.utils import np_utils\n",
    "\n",
    "train_images = X_train.astype('float32')\n",
    "test_images = X_test.astype('float32')\n",
    "\n",
    "train_images = resh(train_images)\n",
    "test_images = resh(test_images)\n",
    "\n",
    "\n",
    "train_labels = np_utils.to_categorical(y_train, 62)\n",
    "test_labels = np_utils.to_categorical(y_test, 62)\n",
    "\n",
    "\n",
    "K.set_learning_phase(1)\n",
    "\n",
    "model = Sequential()\n",
    "\n",
    "model.add(Reshape((28,28,1), input_shape=(784,)))\n",
    "\n",
    "#add the layer below for an accuracy of 89%.(Training time - over 20 hours)\n",
    "model.add(Convolution2D(32, (5,5), input_shape=(28,28,1),\n",
    "                             activation='relu',padding='same',\n",
    "                            kernel_constraint=maxnorm(3)))\n",
    "\n",
    "model.add(Convolution2D(32, (5,5),activation='relu'))\n",
    "\n",
    "model.add(MaxPooling2D(pool_size=(2,2)))\n",
    "\n",
    "model.add(Flatten())\n",
    "\n",
    "model.add(Dense(1024, activation='relu', kernel_constraint=maxnorm(3)))\n",
    "model.add(Dense(512, activation='relu', kernel_constraint=maxnorm(3)))\n",
    "\n",
    "model.add(Dropout(0.5))\n",
    "\n",
    "model.add(Dense(62, activation='softmax'))\n",
    "\n",
    "# opt = optimizers.Adam(lr=0.001, beta_1=0.9, beta_2=0.999, epsilon=1e-8)\n",
    "# opt = optimizers.Adadelta()\n",
    "opt = optimizers.Adamax(lr=0.002, beta_1=0.9, beta_2=0.999, epsilon=None, decay=0.0)\n",
    "model.compile(loss='categorical_crossentropy', optimizer=opt, metrics=['accuracy'])"
   ]
  },
  {
   "cell_type": "code",
   "execution_count": 9,
   "metadata": {},
   "outputs": [
    {
     "name": "stdout",
     "output_type": "stream",
     "text": [
      "_________________________________________________________________\n",
      "Layer (type)                 Output Shape              Param #   \n",
      "=================================================================\n",
      "reshape_1 (Reshape)          (None, 28, 28, 1)         0         \n",
      "_________________________________________________________________\n",
      "conv2d_1 (Conv2D)            (None, 28, 28, 32)        832       \n",
      "_________________________________________________________________\n",
      "conv2d_2 (Conv2D)            (None, 24, 24, 32)        25632     \n",
      "_________________________________________________________________\n",
      "max_pooling2d_1 (MaxPooling2 (None, 12, 12, 32)        0         \n",
      "_________________________________________________________________\n",
      "flatten_1 (Flatten)          (None, 4608)              0         \n",
      "_________________________________________________________________\n",
      "dense_1 (Dense)              (None, 1024)              4719616   \n",
      "_________________________________________________________________\n",
      "dense_2 (Dense)              (None, 512)               524800    \n",
      "_________________________________________________________________\n",
      "dropout_1 (Dropout)          (None, 512)               0         \n",
      "_________________________________________________________________\n",
      "dense_3 (Dense)              (None, 62)                31806     \n",
      "=================================================================\n",
      "Total params: 5,302,686\n",
      "Trainable params: 5,302,686\n",
      "Non-trainable params: 0\n",
      "_________________________________________________________________\n",
      "None\n",
      "WARNING:tensorflow:From /opt/anaconda/lib/python3.7/site-packages/tensorflow/python/ops/math_ops.py:3066: to_int32 (from tensorflow.python.ops.math_ops) is deprecated and will be removed in a future version.\n",
      "Instructions for updating:\n",
      "Use tf.cast instead.\n",
      "Train on 697932 samples, validate on 116323 samples\n",
      "Epoch 1/20\n",
      "697932/697932 [==============================] - 1060s 2ms/step - loss: 0.5008 - acc: 0.8307 - val_loss: 0.4002 - val_acc: 0.8545\n",
      "Epoch 2/20\n",
      "697932/697932 [==============================] - 1036s 1ms/step - loss: 0.3723 - acc: 0.8637 - val_loss: 0.3718 - val_acc: 0.8633\n",
      "Epoch 3/20\n",
      "697932/697932 [==============================] - 1040s 1ms/step - loss: 0.3436 - acc: 0.8714 - val_loss: 0.3601 - val_acc: 0.8672\n",
      "Epoch 4/20\n",
      "697932/697932 [==============================] - 1031s 1ms/step - loss: 0.3233 - acc: 0.8769 - val_loss: 0.3589 - val_acc: 0.8688\n",
      "Epoch 5/20\n",
      "697932/697932 [==============================] - 1032s 1ms/step - loss: 0.3059 - acc: 0.8820 - val_loss: 0.3615 - val_acc: 0.8670\n",
      "Epoch 6/20\n",
      "697932/697932 [==============================] - 1059s 2ms/step - loss: 0.2901 - acc: 0.8871 - val_loss: 0.3719 - val_acc: 0.8680\n",
      "Epoch 7/20\n",
      "697932/697932 [==============================] - 1065s 2ms/step - loss: 0.2761 - acc: 0.8910 - val_loss: 0.3703 - val_acc: 0.8696\n",
      "Epoch 8/20\n",
      "697932/697932 [==============================] - 1114s 2ms/step - loss: 0.2606 - acc: 0.8964 - val_loss: 0.3964 - val_acc: 0.8668\n",
      "Epoch 9/20\n",
      "697932/697932 [==============================] - 1083s 2ms/step - loss: 0.2456 - acc: 0.9015 - val_loss: 0.3988 - val_acc: 0.8624\n",
      "Epoch 10/20\n",
      "697932/697932 [==============================] - 1060s 2ms/step - loss: 0.2313 - acc: 0.9067 - val_loss: 0.4297 - val_acc: 0.8638\n",
      "Epoch 11/20\n",
      "697932/697932 [==============================] - 1037s 1ms/step - loss: 0.2171 - acc: 0.9123 - val_loss: 0.4603 - val_acc: 0.8615\n",
      "Epoch 12/20\n",
      "697932/697932 [==============================] - 1025s 1ms/step - loss: 0.2030 - acc: 0.9178 - val_loss: 0.4628 - val_acc: 0.8571\n",
      "Epoch 13/20\n",
      "697932/697932 [==============================] - 1022s 1ms/step - loss: 0.1894 - acc: 0.9235 - val_loss: 0.4871 - val_acc: 0.8563\n",
      "Epoch 14/20\n",
      "697932/697932 [==============================] - 1025s 1ms/step - loss: 0.1767 - acc: 0.9287 - val_loss: 0.5649 - val_acc: 0.8552\n",
      "Epoch 15/20\n",
      "697932/697932 [==============================] - 1026s 1ms/step - loss: 0.1643 - acc: 0.9339 - val_loss: 0.5850 - val_acc: 0.8530\n",
      "Epoch 16/20\n",
      "697932/697932 [==============================] - 1027s 1ms/step - loss: 0.1518 - acc: 0.9393 - val_loss: 0.5964 - val_acc: 0.8527\n",
      "Epoch 17/20\n",
      "697932/697932 [==============================] - 1025s 1ms/step - loss: 0.1418 - acc: 0.9435 - val_loss: 0.6103 - val_acc: 0.8500\n",
      "Epoch 18/20\n",
      "697932/697932 [==============================] - 1026s 1ms/step - loss: 0.1320 - acc: 0.9476 - val_loss: 0.6604 - val_acc: 0.8517\n",
      "Epoch 19/20\n",
      "697932/697932 [==============================] - 1028s 1ms/step - loss: 0.1233 - acc: 0.9515 - val_loss: 0.6836 - val_acc: 0.8472\n",
      "Epoch 20/20\n",
      "697932/697932 [==============================] - 1028s 1ms/step - loss: 0.1146 - acc: 0.9551 - val_loss: 0.7357 - val_acc: 0.8484\n"
     ]
    }
   ],
   "source": [
    "print(model.summary())\n",
    "history = model.fit(train_images,train_labels,validation_data=(test_images, test_labels), batch_size=128, epochs=20)"
   ]
  },
  {
   "cell_type": "code",
   "execution_count": 10,
   "metadata": {},
   "outputs": [
    {
     "name": "stdout",
     "output_type": "stream",
     "text": [
      "Accuracy: 84.89%\n"
     ]
    }
   ],
   "source": [
    "scores = model.evaluate(test_images,test_labels, verbose = 0)\n",
    "print(\"Accuracy: %.2f%%\"%(scores[1]*100))"
   ]
  },
  {
   "cell_type": "code",
   "execution_count": 11,
   "metadata": {},
   "outputs": [
    {
     "name": "stdout",
     "output_type": "stream",
     "text": [
      "dict_keys(['val_loss', 'val_acc', 'loss', 'acc'])\n"
     ]
    },
    {
     "data": {
      "image/png": "[encoded data removed]",
      "text/plain": [
       "<Figure size 432x288 with 1 Axes>"
      ]
     },
     "metadata": {
      "needs_background": "light"
     },
     "output_type": "display_data"
    },
    {
     "data": {
      "image/png": "[encoded data removed]",
      "text/plain": [
       "<Figure size 432x288 with 1 Axes>"
      ]
     },
     "metadata": {
      "needs_background": "light"
     },
     "output_type": "display_data"
    }
   ],
   "source": [
    "\n",
    "print(history.history.keys())\n",
    "# summarize history for accuracy\n",
    "plt.plot(history.history['acc'])\n",
    "plt.plot(history.history['val_acc'])\n",
    "plt.title('Model Accuracy')\n",
    "plt.ylabel('Accuracy')\n",
    "plt.xlabel('Epoch')\n",
    "plt.legend(['Train', 'Test'], loc='upper left')\n",
    "plt.grid()\n",
    "plt.show()\n",
    "# summarize history for loss\n",
    "plt.plot(history.history['loss'])\n",
    "plt.plot(history.history['val_loss'])\n",
    "plt.title('Model loss')\n",
    "plt.ylabel('Loss')\n",
    "plt.xlabel('Epoch')\n",
    "plt.legend(['Train', 'Test'], loc='upper left')\n",
    "plt.grid()\n",
    "plt.show()"
   ]
  },
  {
   "cell_type": "code",
   "execution_count": 12,
   "metadata": {},
   "outputs": [
    {
     "data": {
      "image/png": "[encoded data removed]",
      "text/plain": [
       "<Figure size 432x288 with 1 Axes>"
      ]
     },
     "metadata": {
      "needs_background": "light"
     },
     "output_type": "display_data"
    }
   ],
   "source": [
    "objects = ('RMSDrop', 'Adam', 'Adamax', 'SGD', 'Adadelta')\n",
    "y_pos = np.arange(len(objects))\n",
    "performance = [86.2,85.39,89.53,84.29,87.11]\n",
    " \n",
    "plt.bar(y_pos, performance, align='center', alpha=0.5)\n",
    "plt.xticks(y_pos, objects)\n",
    "plt.ylabel('Accuracy')\n",
    "plt.title('Optimizers')\n",
    "plt.ylim(50,100)\n",
    "plt.show()"
   ]
  }
 ],
 "metadata": {
  "kernelspec": {
   "display_name": "Python 3",
   "language": "python",
   "name": "python3"
  },
  "language_info": {
   "codemirror_mode": {
    "name": "ipython",
    "version": 3
   },
   "file_extension": ".py",
   "mimetype": "text/x-python",
   "name": "python",
   "nbconvert_exporter": "python",
   "pygments_lexer": "ipython3",
   "version": "3.7.1"
  }
 },
 "nbformat": 4,
 "nbformat_minor": 2
}
