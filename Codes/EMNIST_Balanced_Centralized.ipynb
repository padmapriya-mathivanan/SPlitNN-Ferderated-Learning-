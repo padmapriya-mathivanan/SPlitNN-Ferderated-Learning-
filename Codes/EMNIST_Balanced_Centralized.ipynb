{
  "nbformat": 4,
  "nbformat_minor": 0,
  "metadata": {
    "colab": {
      "name": "EMNIST_Balanced_Centralized.ipynb",
      "provenance": [],
      "collapsed_sections": []
    },
    "kernelspec": {
      "name": "python3",
      "display_name": "Python 3"
    },
    "accelerator": "GPU"
  },
  "cells": [
    {
      "cell_type": "code",
      "metadata": {
        "id": "tl17bQBdmeAs"
      },
      "source": [
        "import numpy as np\r\n",
        "import pandas as pd\r\n",
        "\r\n",
        "import cv2\r\n",
        "import matplotlib.pyplot as plt\r\n",
        "\r\n",
        "from sklearn.model_selection import train_test_split\r\n",
        "\r\n",
        "import tensorflow as tf\r\n",
        "\r\n",
        "from keras.models import Sequential\r\n",
        "from keras.callbacks import EarlyStopping, ModelCheckpoint\r\n",
        "from keras import layers\r\n",
        "from keras.layers import *\r\n",
        "from keras.utils import np_utils\r\n",
        "\r\n",
        "from keras_tqdm import TQDMNotebookCallback\r\n"
      ],
      "execution_count": 2,
      "outputs": []
    },
    {
      "cell_type": "code",
      "metadata": {
        "colab": {
          "base_uri": "https://localhost:8080/"
        },
        "id": "l8lMN-ldoq7x",
        "outputId": "76ebcfab-85ad-413c-d29a-839a5b86717f"
      },
      "source": [
        "pip install keras-tqdm"
      ],
      "execution_count": 1,
      "outputs": [
        {
          "output_type": "stream",
          "text": [
            "Collecting keras-tqdm\n",
            "  Downloading https://files.pythonhosted.org/packages/16/5c/ac63c65b79a895b8994474de2ad4d5b66ac0796b8903d60cfea3f8308d5c/keras_tqdm-2.0.1-py2.py3-none-any.whl\n",
            "Requirement already satisfied: tqdm in /usr/local/lib/python3.7/dist-packages (from keras-tqdm) (4.41.1)\n",
            "Requirement already satisfied: Keras in /usr/local/lib/python3.7/dist-packages (from keras-tqdm) (2.4.3)\n",
            "Requirement already satisfied: scipy>=0.14 in /usr/local/lib/python3.7/dist-packages (from Keras->keras-tqdm) (1.4.1)\n",
            "Requirement already satisfied: numpy>=1.9.1 in /usr/local/lib/python3.7/dist-packages (from Keras->keras-tqdm) (1.19.5)\n",
            "Requirement already satisfied: pyyaml in /usr/local/lib/python3.7/dist-packages (from Keras->keras-tqdm) (3.13)\n",
            "Requirement already satisfied: h5py in /usr/local/lib/python3.7/dist-packages (from Keras->keras-tqdm) (2.10.0)\n",
            "Requirement already satisfied: six in /usr/local/lib/python3.7/dist-packages (from h5py->Keras->keras-tqdm) (1.15.0)\n",
            "Installing collected packages: keras-tqdm\n",
            "Successfully installed keras-tqdm-2.0.1\n"
          ],
          "name": "stdout"
        }
      ]
    },
    {
      "cell_type": "code",
      "metadata": {
        "id": "59eNJ5EyoYoD"
      },
      "source": [
        "#ignore warnings in the output\r\n",
        "tf.compat.v1.logging.set_verbosity(tf.compat.v1.logging.ERROR)"
      ],
      "execution_count": 3,
      "outputs": []
    },
    {
      "cell_type": "code",
      "metadata": {
        "colab": {
          "base_uri": "https://localhost:8080/"
        },
        "id": "HGdgfwnJovqq",
        "outputId": "4835c44f-28b0-4660-e380-fc5904235039"
      },
      "source": [
        "from tensorflow.python.client import device_lib\r\n",
        "\r\n",
        "# Check all available devices if GPU is available\r\n",
        "print(device_lib.list_local_devices())\r\n",
        "sess = tf.compat.v1.Session(config=tf.compat.v1.ConfigProto(log_device_placement=True))"
      ],
      "execution_count": 4,
      "outputs": [
        {
          "output_type": "stream",
          "text": [
            "[name: \"/device:CPU:0\"\n",
            "device_type: \"CPU\"\n",
            "memory_limit: 268435456\n",
            "locality {\n",
            "}\n",
            "incarnation: 12975470899068218708\n",
            ", name: \"/device:GPU:0\"\n",
            "device_type: \"GPU\"\n",
            "memory_limit: 14674281152\n",
            "locality {\n",
            "  bus_id: 1\n",
            "  links {\n",
            "  }\n",
            "}\n",
            "incarnation: 13309717602757190096\n",
            "physical_device_desc: \"device: 0, name: Tesla T4, pci bus id: 0000:00:04.0, compute capability: 7.5\"\n",
            "]\n",
            "Device mapping:\n",
            "/job:localhost/replica:0/task:0/device:GPU:0 -> device: 0, name: Tesla T4, pci bus id: 0000:00:04.0, compute capability: 7.5\n",
            "\n"
          ],
          "name": "stdout"
        }
      ]
    },
    {
      "cell_type": "code",
      "metadata": {
        "colab": {
          "base_uri": "https://localhost:8080/"
        },
        "id": "tClBSo9Hu4nb",
        "outputId": "89bb3907-9ec6-4893-a37b-a1874330d930"
      },
      "source": [
        "from google.colab import drive\r\n",
        "\r\n",
        "drive.mount('/content/gdrive')"
      ],
      "execution_count": 5,
      "outputs": [
        {
          "output_type": "stream",
          "text": [
            "Mounted at /content/gdrive\n"
          ],
          "name": "stdout"
        }
      ]
    },
    {
      "cell_type": "code",
      "metadata": {
        "id": "GVM9UBjco38v"
      },
      "source": [
        "\r\n",
        "train = pd.read_csv('/content/gdrive/MyDrive/Internship/emnist/emnist-balanced-train.csv')\r\n",
        "test = pd.read_csv('/content/gdrive/MyDrive/Internship/emnist/emnist-balanced-test.csv')\r\n",
        "mapping = pd.read_csv(\"/content/gdrive/MyDrive/Internship/emnist/emnist-balanced-mapping.txt\", \r\n",
        "                      delimiter = ' ', \r\n",
        "                      index_col=0, \r\n",
        "                      header=None, \r\n",
        "                      squeeze=True)"
      ],
      "execution_count": 6,
      "outputs": []
    },
    {
      "cell_type": "code",
      "metadata": {
        "colab": {
          "base_uri": "https://localhost:8080/"
        },
        "id": "I--ziKmNo6JI",
        "outputId": "e1dd524d-4acc-4cf3-e702-5ffb7c326501"
      },
      "source": [
        "  \r\n",
        "train.shape, test.shape, mapping.shape"
      ],
      "execution_count": 7,
      "outputs": [
        {
          "output_type": "execute_result",
          "data": {
            "text/plain": [
              "((112799, 785), (18799, 785), (47,))"
            ]
          },
          "metadata": {
            "tags": []
          },
          "execution_count": 7
        }
      ]
    },
    {
      "cell_type": "code",
      "metadata": {
        "id": "dxsMB3M5vsOr"
      },
      "source": [
        "\r\n",
        "X_train, y_train = train.iloc[:, 1:], train.iloc[:, 0]\r\n",
        "X_test, y_test = test.iloc[:, 1:], test.iloc[:, 0]\r\n",
        "\r\n",
        "del train\r\n",
        "del test"
      ],
      "execution_count": 8,
      "outputs": []
    },
    {
      "cell_type": "code",
      "metadata": {
        "colab": {
          "base_uri": "https://localhost:8080/"
        },
        "id": "ZgGDWxEbvhtE",
        "outputId": "8731c614-bc46-405d-97ae-ae93d112da90"
      },
      "source": [
        "classes = np.unique(y_train)\r\n",
        "num_classes = len(classes)\r\n",
        "num_classes"
      ],
      "execution_count": 9,
      "outputs": [
        {
          "output_type": "execute_result",
          "data": {
            "text/plain": [
              "47"
            ]
          },
          "metadata": {
            "tags": []
          },
          "execution_count": 9
        }
      ]
    },
    {
      "cell_type": "code",
      "metadata": {
        "colab": {
          "base_uri": "https://localhost:8080/"
        },
        "id": "acCQOVzivyP8",
        "outputId": "7ed2bcc9-642c-40e4-f132-2a49b6d0d0b6"
      },
      "source": [
        "# Convert the images into 3 channels\r\n",
        "X_train=np.dstack([X_train] * 3)\r\n",
        "X_test=np.dstack([X_test]*3)\r\n",
        "X_train.shape,X_test.shape"
      ],
      "execution_count": 10,
      "outputs": [
        {
          "output_type": "execute_result",
          "data": {
            "text/plain": [
              "((112799, 784, 3), (18799, 784, 3))"
            ]
          },
          "metadata": {
            "tags": []
          },
          "execution_count": 10
        }
      ]
    },
    {
      "cell_type": "code",
      "metadata": {
        "colab": {
          "base_uri": "https://localhost:8080/"
        },
        "id": "Prunx5_CwGik",
        "outputId": "407be476-2b9c-4a11-b8fd-d1503793d257"
      },
      "source": [
        "# Reshape images as per the tensor format required by tensorflow\r\n",
        "X_train = X_train.reshape(-1, 28,28,3)\r\n",
        "X_test= X_test.reshape (-1,28,28,3)\r\n",
        "X_train.shape,X_test.shape"
      ],
      "execution_count": 11,
      "outputs": [
        {
          "output_type": "execute_result",
          "data": {
            "text/plain": [
              "((112799, 28, 28, 3), (18799, 28, 28, 3))"
            ]
          },
          "metadata": {
            "tags": []
          },
          "execution_count": 11
        }
      ]
    },
    {
      "cell_type": "code",
      "metadata": {
        "colab": {
          "base_uri": "https://localhost:8080/"
        },
        "id": "xfJy_iEnwR-J",
        "outputId": "3a5b8077-a782-4690-8566-27e5f25fc1d7"
      },
      "source": [
        "# Resize the images 48*48 as required by VGG16\r\n",
        "from keras.preprocessing.image import img_to_array, array_to_img\r\n",
        "X_train = np.asarray([img_to_array(array_to_img(im, scale=False).resize((48,48))) for im in X_train])\r\n",
        "X_test = np.asarray([img_to_array(array_to_img(im, scale=False).resize((48,48))) for im in X_test])\r\n",
        "#train_x = preprocess_input(x)\r\n",
        "X_train.shape, X_test.shape"
      ],
      "execution_count": 12,
      "outputs": [
        {
          "output_type": "execute_result",
          "data": {
            "text/plain": [
              "((112799, 48, 48, 3), (18799, 48, 48, 3))"
            ]
          },
          "metadata": {
            "tags": []
          },
          "execution_count": 12
        }
      ]
    },
    {
      "cell_type": "code",
      "metadata": {
        "id": "43JQEo5HwdzT"
      },
      "source": [
        "# Normalise the data and change data type\r\n",
        "X_train = X_train / 255.\r\n",
        "X_test = X_test / 255.\r\n",
        "X_train = X_train.astype('float32')\r\n",
        "X_test = X_test.astype('float32')"
      ],
      "execution_count": 13,
      "outputs": []
    },
    {
      "cell_type": "code",
      "metadata": {
        "id": "mSLTAeX5wtvG"
      },
      "source": [
        "from keras.utils import to_categorical\r\n",
        "\r\n",
        "# Converting Labels to one hot encoded format\r\n",
        "y_train_one_hot = to_categorical(y_train)\r\n",
        "y_test_one_hot = to_categorical(y_test)"
      ],
      "execution_count": 14,
      "outputs": []
    },
    {
      "cell_type": "code",
      "metadata": {
        "id": "-2lgEYoJw_42"
      },
      "source": [
        "# partition to train and val\r\n",
        "X_train, X_val, y_train, y_val = train_test_split(X_train, \r\n",
        "                                                  y_train, \r\n",
        "                                                  test_size= 0.10, \r\n",
        "                                                  random_state=88)"
      ],
      "execution_count": 15,
      "outputs": []
    },
    {
      "cell_type": "code",
      "metadata": {
        "colab": {
          "base_uri": "https://localhost:8080/"
        },
        "id": "ZDzKovrVxsgc",
        "outputId": "bbfbe372-4914-4014-c69b-aac96a82917e"
      },
      "source": [
        "# Finally check the data size whether it is as per tensorflow and VGG16 requirement\r\n",
        "X_train.shape,X_val.shape,y_train.shape,y_val.shape"
      ],
      "execution_count": 16,
      "outputs": [
        {
          "output_type": "execute_result",
          "data": {
            "text/plain": [
              "((101519, 48, 48, 3), (11280, 48, 48, 3), (101519,), (11280,))"
            ]
          },
          "metadata": {
            "tags": []
          },
          "execution_count": 16
        }
      ]
    },
    {
      "cell_type": "code",
      "metadata": {
        "id": "zE8J6eFRxUt3"
      },
      "source": [
        "# Define the parameters for instanitaing VGG16 model. \r\n",
        "IMG_WIDTH = 48\r\n",
        "IMG_HEIGHT = 48\r\n",
        "IMG_DEPTH = 3\r\n",
        "BATCH_SIZE = 16"
      ],
      "execution_count": 17,
      "outputs": []
    },
    {
      "cell_type": "code",
      "metadata": {
        "id": "3aX0Pu1eyezT"
      },
      "source": [
        "import numpy as np # linear algebra\r\n",
        "import pandas as pd # data processing, CSV file I/O (e.g. pd.read_csv)\r\n",
        "import os, time\r\n",
        "import matplotlib.pyplot as plt\r\n",
        "#from keras.datasets import fashion_mnist\r\n",
        "from sklearn.model_selection import train_test_split\r\n",
        "import keras\r\n",
        "from keras.utils import to_categorical\r\n",
        "from keras.models import Sequential\r\n",
        "from keras.layers import Conv2D, MaxPooling2D\r\n",
        "from keras.layers import Dense, Dropout, Flatten\r\n",
        "#from keras.layers.advanced_activations import LeakyReLU\r\n",
        "from keras.preprocessing.image import ImageDataGenerator\r\n",
        "from keras.applications import VGG16;\r\n",
        "from keras.applications.vgg16 import preprocess_input\r\n",
        "import os"
      ],
      "execution_count": 18,
      "outputs": []
    },
    {
      "cell_type": "code",
      "metadata": {
        "id": "MYRy50k7ygvn"
      },
      "source": [
        "# Preprocessing the input \r\n",
        "X_train = preprocess_input(X_train)\r\n",
        "X_val = preprocess_input(X_val)\r\n",
        "X_test = preprocess_input(X_test)\r\n"
      ],
      "execution_count": 19,
      "outputs": []
    },
    {
      "cell_type": "code",
      "metadata": {
        "id": "cbrATj1V4RoH"
      },
      "source": [
        "import keras,os\r\n",
        "from keras.models import Sequential\r\n",
        "from keras.layers import Dense, Conv2D, MaxPool2D , Flatten\r\n",
        "from keras.preprocessing.image import ImageDataGenerator\r\n",
        "import numpy as np\r\n",
        "\r\n",
        "\r\n",
        "model = Sequential()\r\n",
        "model.add(Conv2D(input_shape=(48,48,3),filters=64,kernel_size=(3,3),padding=\"same\", activation=\"relu\"))\r\n",
        "model.add(Conv2D(filters=64,kernel_size=(3,3),padding=\"same\", activation=\"relu\"))\r\n",
        "model.add(MaxPool2D(pool_size=(2,2),strides=(2,2)))\r\n",
        "model.add(Conv2D(filters=128, kernel_size=(3,3), padding=\"same\", activation=\"relu\"))\r\n",
        "model.add(Conv2D(filters=128, kernel_size=(3,3), padding=\"same\", activation=\"relu\"))\r\n",
        "model.add(MaxPool2D(pool_size=(2,2),strides=(2,2)))\r\n",
        "model.add(Conv2D(filters=256, kernel_size=(3,3), padding=\"same\", activation=\"relu\"))\r\n",
        "model.add(Conv2D(filters=256, kernel_size=(3,3), padding=\"same\", activation=\"relu\"))\r\n",
        "model.add(Conv2D(filters=256, kernel_size=(3,3), padding=\"same\", activation=\"relu\"))\r\n",
        "model.add(MaxPool2D(pool_size=(2,2),strides=(2,2)))\r\n",
        "model.add(Conv2D(filters=512, kernel_size=(3,3), padding=\"same\", activation=\"relu\"))\r\n",
        "model.add(Conv2D(filters=512, kernel_size=(3,3), padding=\"same\", activation=\"relu\"))\r\n",
        "model.add(Conv2D(filters=512, kernel_size=(3,3), padding=\"same\", activation=\"relu\"))\r\n",
        "model.add(MaxPool2D(pool_size=(2,2),strides=(2,2)))\r\n",
        "model.add(Conv2D(filters=512, kernel_size=(3,3), padding=\"same\", activation=\"relu\"))\r\n",
        "model.add(Conv2D(filters=512, kernel_size=(3,3), padding=\"same\", activation=\"relu\"))\r\n",
        "model.add(Conv2D(filters=512, kernel_size=(3,3), padding=\"same\", activation=\"relu\"))\r\n",
        "model.add(MaxPool2D(pool_size=(2,2),strides=(2,2)))\r\n",
        "model.add(Flatten())\r\n",
        "model.add(Dense(units=4096,activation=\"relu\"))\r\n",
        "model.add(Dense(units=4096,activation=\"relu\"))\r\n",
        "model.add(Dense(units=47, activation=\"softmax\"))"
      ],
      "execution_count": 21,
      "outputs": []
    },
    {
      "cell_type": "code",
      "metadata": {
        "id": "Q-BNOv0xUVvH"
      },
      "source": [
        "# Compile model\r\n",
        "model.compile(loss='sparse_categorical_crossentropy',\r\n",
        "            optimizer='adam',\r\n",
        "            metrics=['accuracy'])"
      ],
      "execution_count": 24,
      "outputs": []
    },
    {
      "cell_type": "code",
      "metadata": {
        "colab": {
          "base_uri": "https://localhost:8080/"
        },
        "id": "ytoosD_sUcKi",
        "outputId": "3a62091f-5dbc-4527-a365-59d71d2f9457"
      },
      "source": [
        "batch_size = 128\r\n",
        "epochs = 100\r\n",
        "\r\n",
        "# Fit model on training data\r\n",
        "history = model.fit(X_train, y_train\r\n",
        "              , batch_size\r\n",
        "              , epochs\r\n",
        "              , verbose=1\r\n",
        "              , validation_data=(X_test, y_test)\r\n",
        "             )"
      ],
      "execution_count": null,
      "outputs": [
        {
          "output_type": "stream",
          "text": [
            "Epoch 1/100\n",
            "794/794 [==============================] - ETA: 0s - loss: 4.5328 - accuracy: 0.0211"
          ],
          "name": "stdout"
        }
      ]
    },
    {
      "cell_type": "code",
      "metadata": {
        "colab": {
          "base_uri": "https://localhost:8080/"
        },
        "id": "fiC6RSVcx_6v",
        "outputId": "6b42e9ca-e098-4e5f-e6be-32bc75143110"
      },
      "source": [
        "#  Create base model of VGG16\r\n",
        "conv_base = VGG16(weights='imagenet',\r\n",
        "                  include_top=False, \r\n",
        "                  input_shape=(IMG_HEIGHT, IMG_WIDTH, IMG_DEPTH)\r\n",
        "                 )\r\n",
        "conv_base.summary()\r\n",
        "\r\n"
      ],
      "execution_count": 20,
      "outputs": [
        {
          "output_type": "stream",
          "text": [
            "Downloading data from https://storage.googleapis.com/tensorflow/keras-applications/vgg16/vgg16_weights_tf_dim_ordering_tf_kernels_notop.h5\n",
            "58892288/58889256 [==============================] - 0s 0us/step\n",
            "Model: \"vgg16\"\n",
            "_________________________________________________________________\n",
            "Layer (type)                 Output Shape              Param #   \n",
            "=================================================================\n",
            "input_1 (InputLayer)         [(None, 48, 48, 3)]       0         \n",
            "_________________________________________________________________\n",
            "block1_conv1 (Conv2D)        (None, 48, 48, 64)        1792      \n",
            "_________________________________________________________________\n",
            "block1_conv2 (Conv2D)        (None, 48, 48, 64)        36928     \n",
            "_________________________________________________________________\n",
            "block1_pool (MaxPooling2D)   (None, 24, 24, 64)        0         \n",
            "_________________________________________________________________\n",
            "block2_conv1 (Conv2D)        (None, 24, 24, 128)       73856     \n",
            "_________________________________________________________________\n",
            "block2_conv2 (Conv2D)        (None, 24, 24, 128)       147584    \n",
            "_________________________________________________________________\n",
            "block2_pool (MaxPooling2D)   (None, 12, 12, 128)       0         \n",
            "_________________________________________________________________\n",
            "block3_conv1 (Conv2D)        (None, 12, 12, 256)       295168    \n",
            "_________________________________________________________________\n",
            "block3_conv2 (Conv2D)        (None, 12, 12, 256)       590080    \n",
            "_________________________________________________________________\n",
            "block3_conv3 (Conv2D)        (None, 12, 12, 256)       590080    \n",
            "_________________________________________________________________\n",
            "block3_pool (MaxPooling2D)   (None, 6, 6, 256)         0         \n",
            "_________________________________________________________________\n",
            "block4_conv1 (Conv2D)        (None, 6, 6, 512)         1180160   \n",
            "_________________________________________________________________\n",
            "block4_conv2 (Conv2D)        (None, 6, 6, 512)         2359808   \n",
            "_________________________________________________________________\n",
            "block4_conv3 (Conv2D)        (None, 6, 6, 512)         2359808   \n",
            "_________________________________________________________________\n",
            "block4_pool (MaxPooling2D)   (None, 3, 3, 512)         0         \n",
            "_________________________________________________________________\n",
            "block5_conv1 (Conv2D)        (None, 3, 3, 512)         2359808   \n",
            "_________________________________________________________________\n",
            "block5_conv2 (Conv2D)        (None, 3, 3, 512)         2359808   \n",
            "_________________________________________________________________\n",
            "block5_conv3 (Conv2D)        (None, 3, 3, 512)         2359808   \n",
            "_________________________________________________________________\n",
            "block5_pool (MaxPooling2D)   (None, 1, 1, 512)         0         \n",
            "=================================================================\n",
            "Total params: 14,714,688\n",
            "Trainable params: 14,714,688\n",
            "Non-trainable params: 0\n",
            "_________________________________________________________________\n"
          ],
          "name": "stdout"
        }
      ]
    },
    {
      "cell_type": "code",
      "metadata": {
        "colab": {
          "base_uri": "https://localhost:8080/"
        },
        "id": "ixdMkeLryV9U",
        "outputId": "aac87864-5e5b-48e3-b4a6-0456351e456e"
      },
      "source": [
        "# Extracting features\r\n",
        "train_features = conv_base.predict(np.array(X_train), batch_size=BATCH_SIZE, verbose=1)\r\n",
        "test_features = conv_base.predict(np.array(X_test), batch_size=BATCH_SIZE, verbose=1)\r\n",
        "val_features = conv_base.predict(np.array(X_val), batch_size=BATCH_SIZE, verbose=1)\r\n",
        "#for layer in conv_base.layers:\r\n",
        "#    layer.trainable = False"
      ],
      "execution_count": 21,
      "outputs": [
        {
          "output_type": "stream",
          "text": [
            "6345/6345 [==============================] - 81s 8ms/step\n",
            "1175/1175 [==============================] - 9s 8ms/step\n",
            "705/705 [==============================] - 6s 8ms/step\n"
          ],
          "name": "stdout"
        }
      ]
    },
    {
      "cell_type": "code",
      "metadata": {
        "id": "4TEx_fc_0lha"
      },
      "source": [
        "# 6.1 Saving the features so that they can be used for future\r\n",
        "np.savez(\"train_features\", train_features, y_train)\r\n",
        "np.savez(\"test_features\", test_features, y_test)\r\n",
        "np.savez(\"val_features\", val_features, y_val)"
      ],
      "execution_count": 22,
      "outputs": []
    },
    {
      "cell_type": "code",
      "metadata": {
        "colab": {
          "base_uri": "https://localhost:8080/"
        },
        "id": "XlN3bSZ10_9G",
        "outputId": "c251a3c6-cae6-4b8a-962e-f00d0665fe8a"
      },
      "source": [
        "# Current shape of features\r\n",
        "print(train_features.shape, \"\\n\",  test_features.shape, \"\\n\", val_features.shape)"
      ],
      "execution_count": 23,
      "outputs": [
        {
          "output_type": "stream",
          "text": [
            "(101519, 1, 1, 512) \n",
            " (18799, 1, 1, 512) \n",
            " (11280, 1, 1, 512)\n"
          ],
          "name": "stdout"
        }
      ]
    },
    {
      "cell_type": "code",
      "metadata": {
        "id": "XnMVMZ3v1hC4"
      },
      "source": [
        "# Flatten extracted features\r\n",
        "train_features_flat = np.reshape(train_features, (101519, 1*1*512))\r\n",
        "test_features_flat = np.reshape(test_features, (18799, 1*1*512))\r\n",
        "val_features_flat = np.reshape(val_features, (11280, 1*1*512))"
      ],
      "execution_count": 24,
      "outputs": []
    },
    {
      "cell_type": "code",
      "metadata": {
        "id": "CiHM68cA1lb2"
      },
      "source": [
        "from keras import models\r\n",
        "from keras.models import Model\r\n",
        "from keras import layers\r\n",
        "from keras import optimizers\r\n",
        "from keras import callbacks\r\n",
        "from keras.layers.advanced_activations import LeakyReLU"
      ],
      "execution_count": 25,
      "outputs": []
    },
    {
      "cell_type": "code",
      "metadata": {
        "id": "ryCWSx1T1urE"
      },
      "source": [
        "# 7.0 Define the densely connected classifier followed by leakyrelu layer and finally dense layer for the number of classes\r\n",
        "NB_TRAIN_SAMPLES = train_features_flat.shape[0]\r\n",
        "NB_VALIDATION_SAMPLES = val_features_flat.shape[0]\r\n",
        "NB_EPOCHS = 200\r\n",
        "\r\n",
        "model = models.Sequential()\r\n",
        "model.add(layers.Dense(512, activation='relu', input_dim=(1*1*512)))\r\n",
        "model.add(layers.LeakyReLU(alpha=0.1))\r\n",
        "model.add(layers.Dense(num_classes, activation='softmax'))"
      ],
      "execution_count": 27,
      "outputs": []
    },
    {
      "cell_type": "code",
      "metadata": {
        "id": "zIZ3AFPl10AL"
      },
      "source": [
        "# Compile the model.\r\n",
        "model.compile(\r\n",
        "    loss='categorical_crossentropy',\r\n",
        "    optimizer=optimizers.Adam(),\r\n",
        "  # optimizer=optimizers.RMSprop(lr=2e-5),\r\n",
        "    metrics=['acc'])"
      ],
      "execution_count": 28,
      "outputs": []
    },
    {
      "cell_type": "code",
      "metadata": {
        "id": "ivLRgLBU12Sn",
        "colab": {
          "base_uri": "https://localhost:8080/",
          "height": 53
        },
        "outputId": "ea6f16d1-4a08-4e16-acd4-b3ea75d818e3"
      },
      "source": [
        "# Incorporating reduced learning and early stopping for callback\r\n",
        "reduce_learning = callbacks.ReduceLROnPlateau(\r\n",
        "    monitor='val_loss',\r\n",
        "    factor=0.2,\r\n",
        "    patience=2,\r\n",
        "    verbose=1,\r\n",
        "    mode='auto',\r\n",
        "    epsilon=0.0001,\r\n",
        "    cooldown=2,\r\n",
        "    min_lr=0)\r\n",
        "\"\"\"\r\n",
        "eary_stopping = callbacks.EarlyStopping(\r\n",
        "    monitor='val_loss',\r\n",
        "    min_delta=0,\r\n",
        "    patience=7,\r\n",
        "    verbose=1,\r\n",
        "    mode='auto')\r\n",
        "\r\n",
        "callbacks = [reduce_learning, eary_stopping]\"\"\""
      ],
      "execution_count": 29,
      "outputs": [
        {
          "output_type": "execute_result",
          "data": {
            "application/vnd.google.colaboratory.intrinsic+json": {
              "type": "string"
            },
            "text/plain": [
              "\"\\neary_stopping = callbacks.EarlyStopping(\\n    monitor='val_loss',\\n    min_delta=0,\\n    patience=7,\\n    verbose=1,\\n    mode='auto')\\n\\ncallbacks = [reduce_learning, eary_stopping]\""
            ]
          },
          "metadata": {
            "tags": []
          },
          "execution_count": 29
        }
      ]
    },
    {
      "cell_type": "code",
      "metadata": {
        "id": "ZLlGdi502xbR"
      },
      "source": [
        "y_train = to_categorical(y_train, 47)\r\n",
        "y_test = to_categorical(y_test, 47)\r\n",
        "y_val = to_categorical(y_val, 47)"
      ],
      "execution_count": 30,
      "outputs": []
    },
    {
      "cell_type": "code",
      "metadata": {
        "colab": {
          "base_uri": "https://localhost:8080/"
        },
        "id": "KzsktwZu158-",
        "outputId": "dda8bb8e-0192-4a83-b441-4627f56ab58c"
      },
      "source": [
        "# Train the the model\r\n",
        "history = model.fit(\r\n",
        "    train_features_flat,\r\n",
        "    y_train,\r\n",
        "    epochs=NB_EPOCHS,\r\n",
        "    validation_data=(val_features_flat, y_val)\r\n",
        ")"
      ],
      "execution_count": 31,
      "outputs": [
        {
          "output_type": "stream",
          "text": [
            "Epoch 1/200\n",
            "3173/3173 [==============================] - 10s 3ms/step - loss: 3.1638 - acc: 0.1831 - val_loss: 2.0856 - val_acc: 0.3932\n",
            "Epoch 2/200\n",
            "3173/3173 [==============================] - 8s 2ms/step - loss: 1.9970 - acc: 0.4247 - val_loss: 1.7669 - val_acc: 0.4836\n",
            "Epoch 3/200\n",
            "3173/3173 [==============================] - 8s 2ms/step - loss: 1.7413 - acc: 0.4915 - val_loss: 1.6428 - val_acc: 0.5136\n",
            "Epoch 4/200\n",
            "3173/3173 [==============================] - 8s 2ms/step - loss: 1.6188 - acc: 0.5231 - val_loss: 1.5565 - val_acc: 0.5346\n",
            "Epoch 5/200\n",
            "3173/3173 [==============================] - 8s 2ms/step - loss: 1.5458 - acc: 0.5385 - val_loss: 1.5031 - val_acc: 0.5475\n",
            "Epoch 6/200\n",
            "3173/3173 [==============================] - 8s 2ms/step - loss: 1.5004 - acc: 0.5509 - val_loss: 1.4512 - val_acc: 0.5661\n",
            "Epoch 7/200\n",
            "3173/3173 [==============================] - 8s 2ms/step - loss: 1.4682 - acc: 0.5628 - val_loss: 1.4342 - val_acc: 0.5690\n",
            "Epoch 8/200\n",
            "3173/3173 [==============================] - 8s 2ms/step - loss: 1.4417 - acc: 0.5691 - val_loss: 1.4405 - val_acc: 0.5623\n",
            "Epoch 9/200\n",
            "3173/3173 [==============================] - 8s 2ms/step - loss: 1.4375 - acc: 0.5713 - val_loss: 1.4838 - val_acc: 0.5641\n",
            "Epoch 10/200\n",
            "3173/3173 [==============================] - 8s 2ms/step - loss: 1.4121 - acc: 0.5739 - val_loss: 1.4126 - val_acc: 0.5777\n",
            "Epoch 11/200\n",
            "3173/3173 [==============================] - 8s 2ms/step - loss: 1.3925 - acc: 0.5832 - val_loss: 1.4396 - val_acc: 0.5637\n",
            "Epoch 12/200\n",
            "3173/3173 [==============================] - 8s 2ms/step - loss: 1.3842 - acc: 0.5792 - val_loss: 1.3517 - val_acc: 0.5918\n",
            "Epoch 13/200\n",
            "3173/3173 [==============================] - 8s 2ms/step - loss: 1.3568 - acc: 0.5902 - val_loss: 1.4370 - val_acc: 0.5632\n",
            "Epoch 14/200\n",
            "3173/3173 [==============================] - 8s 2ms/step - loss: 1.3429 - acc: 0.5917 - val_loss: 1.3858 - val_acc: 0.5830\n",
            "Epoch 15/200\n",
            "3173/3173 [==============================] - 8s 2ms/step - loss: 1.3362 - acc: 0.5971 - val_loss: 1.3295 - val_acc: 0.6063\n",
            "Epoch 16/200\n",
            "3173/3173 [==============================] - 8s 2ms/step - loss: 1.3282 - acc: 0.5921 - val_loss: 1.3994 - val_acc: 0.5761\n",
            "Epoch 17/200\n",
            "3173/3173 [==============================] - 8s 2ms/step - loss: 1.3154 - acc: 0.5982 - val_loss: 1.4096 - val_acc: 0.5798\n",
            "Epoch 18/200\n",
            "3173/3173 [==============================] - 8s 2ms/step - loss: 1.3028 - acc: 0.6043 - val_loss: 1.2940 - val_acc: 0.6103\n",
            "Epoch 19/200\n",
            "3173/3173 [==============================] - 8s 2ms/step - loss: 1.2980 - acc: 0.6065 - val_loss: 1.2605 - val_acc: 0.6192\n",
            "Epoch 20/200\n",
            "3173/3173 [==============================] - 8s 2ms/step - loss: 1.2889 - acc: 0.6073 - val_loss: 1.3467 - val_acc: 0.5959\n",
            "Epoch 21/200\n",
            "3173/3173 [==============================] - 8s 2ms/step - loss: 1.2800 - acc: 0.6118 - val_loss: 1.2773 - val_acc: 0.6134\n",
            "Epoch 22/200\n",
            "3173/3173 [==============================] - 8s 2ms/step - loss: 1.2729 - acc: 0.6104 - val_loss: 1.2631 - val_acc: 0.6207\n",
            "Epoch 23/200\n",
            "3173/3173 [==============================] - 8s 2ms/step - loss: 1.2733 - acc: 0.6115 - val_loss: 1.3035 - val_acc: 0.6063\n",
            "Epoch 24/200\n",
            "3173/3173 [==============================] - 8s 2ms/step - loss: 1.2616 - acc: 0.6154 - val_loss: 1.2579 - val_acc: 0.6193\n",
            "Epoch 25/200\n",
            "3173/3173 [==============================] - 8s 2ms/step - loss: 1.2557 - acc: 0.6164 - val_loss: 1.3183 - val_acc: 0.6018\n",
            "Epoch 26/200\n",
            "3173/3173 [==============================] - 8s 2ms/step - loss: 1.2437 - acc: 0.6196 - val_loss: 1.3041 - val_acc: 0.6057\n",
            "Epoch 27/200\n",
            "3173/3173 [==============================] - 8s 2ms/step - loss: 1.2501 - acc: 0.6177 - val_loss: 1.2779 - val_acc: 0.6072\n",
            "Epoch 28/200\n",
            "3173/3173 [==============================] - 8s 2ms/step - loss: 1.2450 - acc: 0.6217 - val_loss: 1.2649 - val_acc: 0.6132\n",
            "Epoch 29/200\n",
            "3173/3173 [==============================] - 8s 2ms/step - loss: 1.2350 - acc: 0.6215 - val_loss: 1.2287 - val_acc: 0.6328\n",
            "Epoch 30/200\n",
            "3173/3173 [==============================] - 8s 2ms/step - loss: 1.2289 - acc: 0.6219 - val_loss: 1.2116 - val_acc: 0.6277\n",
            "Epoch 31/200\n",
            "3173/3173 [==============================] - 8s 2ms/step - loss: 1.2343 - acc: 0.6212 - val_loss: 1.2980 - val_acc: 0.6050\n",
            "Epoch 32/200\n",
            "3173/3173 [==============================] - 8s 2ms/step - loss: 1.2258 - acc: 0.6255 - val_loss: 1.2625 - val_acc: 0.6151\n",
            "Epoch 33/200\n",
            "3173/3173 [==============================] - 8s 2ms/step - loss: 1.2108 - acc: 0.6301 - val_loss: 1.2305 - val_acc: 0.6221\n",
            "Epoch 34/200\n",
            "3173/3173 [==============================] - 8s 2ms/step - loss: 1.2112 - acc: 0.6287 - val_loss: 1.2469 - val_acc: 0.6228\n",
            "Epoch 35/200\n",
            "3173/3173 [==============================] - 8s 3ms/step - loss: 1.1990 - acc: 0.6302 - val_loss: 1.2083 - val_acc: 0.6338\n",
            "Epoch 36/200\n",
            "3173/3173 [==============================] - 8s 2ms/step - loss: 1.2080 - acc: 0.6282 - val_loss: 1.2664 - val_acc: 0.6213\n",
            "Epoch 37/200\n",
            "3173/3173 [==============================] - 8s 2ms/step - loss: 1.1942 - acc: 0.6326 - val_loss: 1.2526 - val_acc: 0.6210\n",
            "Epoch 38/200\n",
            "3173/3173 [==============================] - 8s 2ms/step - loss: 1.1977 - acc: 0.6303 - val_loss: 1.2124 - val_acc: 0.6299\n",
            "Epoch 39/200\n",
            "3173/3173 [==============================] - 8s 2ms/step - loss: 1.1834 - acc: 0.6378 - val_loss: 1.2212 - val_acc: 0.6252\n",
            "Epoch 40/200\n",
            "3173/3173 [==============================] - 8s 2ms/step - loss: 1.1901 - acc: 0.6376 - val_loss: 1.2284 - val_acc: 0.6246\n",
            "Epoch 41/200\n",
            "3173/3173 [==============================] - 8s 2ms/step - loss: 1.1906 - acc: 0.6351 - val_loss: 1.2101 - val_acc: 0.6294\n",
            "Epoch 42/200\n",
            "3173/3173 [==============================] - 8s 2ms/step - loss: 1.1841 - acc: 0.6353 - val_loss: 1.1893 - val_acc: 0.6379\n",
            "Epoch 43/200\n",
            "3173/3173 [==============================] - 8s 2ms/step - loss: 1.1745 - acc: 0.6380 - val_loss: 1.2103 - val_acc: 0.6279\n",
            "Epoch 44/200\n",
            "3173/3173 [==============================] - 8s 2ms/step - loss: 1.1702 - acc: 0.6405 - val_loss: 1.1763 - val_acc: 0.6458\n",
            "Epoch 45/200\n",
            "3173/3173 [==============================] - 8s 2ms/step - loss: 1.1712 - acc: 0.6418 - val_loss: 1.2157 - val_acc: 0.6294\n",
            "Epoch 46/200\n",
            "3173/3173 [==============================] - 8s 2ms/step - loss: 1.1686 - acc: 0.6411 - val_loss: 1.2353 - val_acc: 0.6227\n",
            "Epoch 47/200\n",
            "3173/3173 [==============================] - 8s 2ms/step - loss: 1.1587 - acc: 0.6414 - val_loss: 1.2314 - val_acc: 0.6286\n",
            "Epoch 48/200\n",
            "3173/3173 [==============================] - 8s 2ms/step - loss: 1.1680 - acc: 0.6412 - val_loss: 1.2329 - val_acc: 0.6301\n",
            "Epoch 49/200\n",
            "3173/3173 [==============================] - 8s 2ms/step - loss: 1.1618 - acc: 0.6443 - val_loss: 1.1863 - val_acc: 0.6376\n",
            "Epoch 50/200\n",
            "3173/3173 [==============================] - 8s 2ms/step - loss: 1.1575 - acc: 0.6451 - val_loss: 1.2148 - val_acc: 0.6299\n",
            "Epoch 51/200\n",
            "3173/3173 [==============================] - 8s 2ms/step - loss: 1.1608 - acc: 0.6425 - val_loss: 1.2116 - val_acc: 0.6337\n",
            "Epoch 52/200\n",
            "3173/3173 [==============================] - 8s 2ms/step - loss: 1.1516 - acc: 0.6449 - val_loss: 1.2007 - val_acc: 0.6344\n",
            "Epoch 53/200\n",
            "3173/3173 [==============================] - 8s 2ms/step - loss: 1.1503 - acc: 0.6465 - val_loss: 1.1923 - val_acc: 0.6386\n",
            "Epoch 54/200\n",
            "3173/3173 [==============================] - 8s 2ms/step - loss: 1.1556 - acc: 0.6447 - val_loss: 1.2246 - val_acc: 0.6270\n",
            "Epoch 55/200\n",
            "3173/3173 [==============================] - 8s 2ms/step - loss: 1.1544 - acc: 0.6450 - val_loss: 1.1603 - val_acc: 0.6493\n",
            "Epoch 56/200\n",
            "3173/3173 [==============================] - 8s 2ms/step - loss: 1.1432 - acc: 0.6490 - val_loss: 1.1758 - val_acc: 0.6420\n",
            "Epoch 57/200\n",
            "3173/3173 [==============================] - 8s 2ms/step - loss: 1.1358 - acc: 0.6473 - val_loss: 1.2007 - val_acc: 0.6363\n",
            "Epoch 58/200\n",
            "3173/3173 [==============================] - 8s 2ms/step - loss: 1.1287 - acc: 0.6517 - val_loss: 1.1790 - val_acc: 0.6379\n",
            "Epoch 59/200\n",
            "3173/3173 [==============================] - 8s 2ms/step - loss: 1.1307 - acc: 0.6508 - val_loss: 1.2060 - val_acc: 0.6348\n",
            "Epoch 60/200\n",
            "3173/3173 [==============================] - 8s 2ms/step - loss: 1.1383 - acc: 0.6495 - val_loss: 1.1961 - val_acc: 0.6372\n",
            "Epoch 61/200\n",
            "3173/3173 [==============================] - 8s 2ms/step - loss: 1.1351 - acc: 0.6484 - val_loss: 1.1832 - val_acc: 0.6360\n",
            "Epoch 62/200\n",
            "3173/3173 [==============================] - 8s 2ms/step - loss: 1.1386 - acc: 0.6492 - val_loss: 1.1752 - val_acc: 0.6404\n",
            "Epoch 63/200\n",
            "3173/3173 [==============================] - 8s 2ms/step - loss: 1.1299 - acc: 0.6504 - val_loss: 1.1898 - val_acc: 0.6360\n",
            "Epoch 64/200\n",
            "3173/3173 [==============================] - 8s 3ms/step - loss: 1.1278 - acc: 0.6543 - val_loss: 1.1813 - val_acc: 0.6362\n",
            "Epoch 65/200\n",
            "3173/3173 [==============================] - 8s 3ms/step - loss: 1.1288 - acc: 0.6506 - val_loss: 1.1482 - val_acc: 0.6501\n",
            "Epoch 66/200\n",
            "3173/3173 [==============================] - 8s 2ms/step - loss: 1.1248 - acc: 0.6521 - val_loss: 1.2592 - val_acc: 0.6191\n",
            "Epoch 67/200\n",
            "3173/3173 [==============================] - 8s 2ms/step - loss: 1.1233 - acc: 0.6518 - val_loss: 1.1770 - val_acc: 0.6428\n",
            "Epoch 68/200\n",
            "3173/3173 [==============================] - 8s 2ms/step - loss: 1.1164 - acc: 0.6547 - val_loss: 1.1552 - val_acc: 0.6473\n",
            "Epoch 69/200\n",
            "3173/3173 [==============================] - 8s 2ms/step - loss: 1.1218 - acc: 0.6545 - val_loss: 1.1612 - val_acc: 0.6431\n",
            "Epoch 70/200\n",
            "3173/3173 [==============================] - 8s 2ms/step - loss: 1.1233 - acc: 0.6529 - val_loss: 1.1483 - val_acc: 0.6521\n",
            "Epoch 71/200\n",
            "3173/3173 [==============================] - 8s 2ms/step - loss: 1.1182 - acc: 0.6519 - val_loss: 1.1416 - val_acc: 0.6547\n",
            "Epoch 72/200\n",
            "3173/3173 [==============================] - 8s 2ms/step - loss: 1.1155 - acc: 0.6548 - val_loss: 1.1624 - val_acc: 0.6466\n",
            "Epoch 73/200\n",
            "3173/3173 [==============================] - 8s 2ms/step - loss: 1.1095 - acc: 0.6569 - val_loss: 1.1490 - val_acc: 0.6459\n",
            "Epoch 74/200\n",
            "3173/3173 [==============================] - 8s 2ms/step - loss: 1.1132 - acc: 0.6550 - val_loss: 1.1689 - val_acc: 0.6418\n",
            "Epoch 75/200\n",
            "3173/3173 [==============================] - 8s 3ms/step - loss: 1.1101 - acc: 0.6567 - val_loss: 1.1468 - val_acc: 0.6473\n",
            "Epoch 76/200\n",
            "3173/3173 [==============================] - 8s 2ms/step - loss: 1.1101 - acc: 0.6568 - val_loss: 1.1691 - val_acc: 0.6429\n",
            "Epoch 77/200\n",
            "3173/3173 [==============================] - 8s 2ms/step - loss: 1.1081 - acc: 0.6552 - val_loss: 1.1782 - val_acc: 0.6382\n",
            "Epoch 78/200\n",
            "3173/3173 [==============================] - 8s 2ms/step - loss: 1.1118 - acc: 0.6558 - val_loss: 1.1623 - val_acc: 0.6446\n",
            "Epoch 79/200\n",
            "3173/3173 [==============================] - 8s 2ms/step - loss: 1.1051 - acc: 0.6588 - val_loss: 1.1339 - val_acc: 0.6491\n",
            "Epoch 80/200\n",
            "3173/3173 [==============================] - 8s 2ms/step - loss: 1.1056 - acc: 0.6559 - val_loss: 1.2035 - val_acc: 0.6386\n",
            "Epoch 81/200\n",
            "3173/3173 [==============================] - 8s 2ms/step - loss: 1.1049 - acc: 0.6595 - val_loss: 1.1629 - val_acc: 0.6457\n",
            "Epoch 82/200\n",
            "3173/3173 [==============================] - 8s 2ms/step - loss: 1.0989 - acc: 0.6606 - val_loss: 1.1616 - val_acc: 0.6448\n",
            "Epoch 83/200\n",
            "3173/3173 [==============================] - 8s 2ms/step - loss: 1.1018 - acc: 0.6603 - val_loss: 1.1786 - val_acc: 0.6351\n",
            "Epoch 84/200\n",
            "3173/3173 [==============================] - 8s 2ms/step - loss: 1.1047 - acc: 0.6588 - val_loss: 1.1610 - val_acc: 0.6481\n",
            "Epoch 85/200\n",
            "3173/3173 [==============================] - 8s 2ms/step - loss: 1.0996 - acc: 0.6569 - val_loss: 1.1485 - val_acc: 0.6490\n",
            "Epoch 86/200\n",
            "3173/3173 [==============================] - 8s 2ms/step - loss: 1.0933 - acc: 0.6625 - val_loss: 1.1156 - val_acc: 0.6569\n",
            "Epoch 87/200\n",
            "3173/3173 [==============================] - 8s 2ms/step - loss: 1.1017 - acc: 0.6625 - val_loss: 1.1737 - val_acc: 0.6473\n",
            "Epoch 88/200\n",
            "3173/3173 [==============================] - 8s 2ms/step - loss: 1.0951 - acc: 0.6590 - val_loss: 1.1901 - val_acc: 0.6356\n",
            "Epoch 89/200\n",
            "3173/3173 [==============================] - 8s 2ms/step - loss: 1.0902 - acc: 0.6627 - val_loss: 1.1151 - val_acc: 0.6562\n",
            "Epoch 90/200\n",
            "3173/3173 [==============================] - 8s 2ms/step - loss: 1.0902 - acc: 0.6620 - val_loss: 1.1321 - val_acc: 0.6568\n",
            "Epoch 91/200\n",
            "3173/3173 [==============================] - 8s 2ms/step - loss: 1.0851 - acc: 0.6632 - val_loss: 1.1171 - val_acc: 0.6575\n",
            "Epoch 92/200\n",
            "3173/3173 [==============================] - 8s 2ms/step - loss: 1.0929 - acc: 0.6589 - val_loss: 1.2060 - val_acc: 0.6317\n",
            "Epoch 93/200\n",
            "3173/3173 [==============================] - 8s 2ms/step - loss: 1.0894 - acc: 0.6624 - val_loss: 1.1243 - val_acc: 0.6560\n",
            "Epoch 94/200\n",
            "3173/3173 [==============================] - 8s 2ms/step - loss: 1.0984 - acc: 0.6590 - val_loss: 1.1789 - val_acc: 0.6361\n",
            "Epoch 95/200\n",
            "3173/3173 [==============================] - 8s 2ms/step - loss: 1.0939 - acc: 0.6612 - val_loss: 1.1342 - val_acc: 0.6499\n",
            "Epoch 96/200\n",
            "3173/3173 [==============================] - 8s 2ms/step - loss: 1.1000 - acc: 0.6602 - val_loss: 1.1756 - val_acc: 0.6399\n",
            "Epoch 97/200\n",
            "3173/3173 [==============================] - 8s 2ms/step - loss: 1.0926 - acc: 0.6635 - val_loss: 1.1317 - val_acc: 0.6535\n",
            "Epoch 98/200\n",
            "3173/3173 [==============================] - 8s 2ms/step - loss: 1.0889 - acc: 0.6611 - val_loss: 1.1516 - val_acc: 0.6452\n",
            "Epoch 99/200\n",
            "3173/3173 [==============================] - 8s 2ms/step - loss: 1.0796 - acc: 0.6655 - val_loss: 1.1672 - val_acc: 0.6449\n",
            "Epoch 100/200\n",
            "3173/3173 [==============================] - 8s 2ms/step - loss: 1.0917 - acc: 0.6627 - val_loss: 1.1188 - val_acc: 0.6604\n",
            "Epoch 101/200\n",
            "3173/3173 [==============================] - 8s 2ms/step - loss: 1.0745 - acc: 0.6663 - val_loss: 1.1502 - val_acc: 0.6496\n",
            "Epoch 102/200\n",
            "3173/3173 [==============================] - 8s 2ms/step - loss: 1.0770 - acc: 0.6653 - val_loss: 1.1643 - val_acc: 0.6445\n",
            "Epoch 103/200\n",
            "3173/3173 [==============================] - 8s 2ms/step - loss: 1.0833 - acc: 0.6641 - val_loss: 1.1321 - val_acc: 0.6547\n",
            "Epoch 104/200\n",
            "3173/3173 [==============================] - 8s 2ms/step - loss: 1.0804 - acc: 0.6656 - val_loss: 1.1386 - val_acc: 0.6541\n",
            "Epoch 105/200\n",
            "3173/3173 [==============================] - 8s 3ms/step - loss: 1.0868 - acc: 0.6657 - val_loss: 1.1493 - val_acc: 0.6515\n",
            "Epoch 106/200\n",
            "3173/3173 [==============================] - 8s 2ms/step - loss: 1.0807 - acc: 0.6636 - val_loss: 1.1472 - val_acc: 0.6527\n",
            "Epoch 107/200\n",
            "3173/3173 [==============================] - 8s 3ms/step - loss: 1.0766 - acc: 0.6640 - val_loss: 1.1232 - val_acc: 0.6554\n",
            "Epoch 108/200\n",
            "3173/3173 [==============================] - 8s 2ms/step - loss: 1.0741 - acc: 0.6684 - val_loss: 1.1156 - val_acc: 0.6565\n",
            "Epoch 109/200\n",
            "3173/3173 [==============================] - 8s 2ms/step - loss: 1.0809 - acc: 0.6660 - val_loss: 1.1131 - val_acc: 0.6592\n",
            "Epoch 110/200\n",
            "3173/3173 [==============================] - 8s 2ms/step - loss: 1.0741 - acc: 0.6662 - val_loss: 1.1360 - val_acc: 0.6570\n",
            "Epoch 111/200\n",
            "3173/3173 [==============================] - 8s 3ms/step - loss: 1.0720 - acc: 0.6691 - val_loss: 1.1786 - val_acc: 0.6384\n",
            "Epoch 112/200\n",
            "3173/3173 [==============================] - 8s 3ms/step - loss: 1.0746 - acc: 0.6667 - val_loss: 1.1678 - val_acc: 0.6358\n",
            "Epoch 113/200\n",
            "3173/3173 [==============================] - 8s 2ms/step - loss: 1.0807 - acc: 0.6655 - val_loss: 1.0981 - val_acc: 0.6632\n",
            "Epoch 114/200\n",
            "3173/3173 [==============================] - 8s 3ms/step - loss: 1.0615 - acc: 0.6694 - val_loss: 1.1559 - val_acc: 0.6465\n",
            "Epoch 115/200\n",
            "3173/3173 [==============================] - 8s 3ms/step - loss: 1.0747 - acc: 0.6682 - val_loss: 1.1343 - val_acc: 0.6535\n",
            "Epoch 116/200\n",
            "3173/3173 [==============================] - 8s 2ms/step - loss: 1.0686 - acc: 0.6663 - val_loss: 1.1224 - val_acc: 0.6576\n",
            "Epoch 117/200\n",
            "3173/3173 [==============================] - 8s 2ms/step - loss: 1.0741 - acc: 0.6655 - val_loss: 1.1127 - val_acc: 0.6564\n",
            "Epoch 118/200\n",
            "3173/3173 [==============================] - 8s 2ms/step - loss: 1.0594 - acc: 0.6691 - val_loss: 1.1036 - val_acc: 0.6616\n",
            "Epoch 119/200\n",
            "3173/3173 [==============================] - 8s 2ms/step - loss: 1.0633 - acc: 0.6677 - val_loss: 1.1276 - val_acc: 0.6496\n",
            "Epoch 120/200\n",
            "3173/3173 [==============================] - 8s 3ms/step - loss: 1.0693 - acc: 0.6671 - val_loss: 1.1144 - val_acc: 0.6609\n",
            "Epoch 121/200\n",
            "3173/3173 [==============================] - 8s 3ms/step - loss: 1.0679 - acc: 0.6658 - val_loss: 1.1209 - val_acc: 0.6561\n",
            "Epoch 122/200\n",
            "3173/3173 [==============================] - 8s 3ms/step - loss: 1.0658 - acc: 0.6689 - val_loss: 1.1505 - val_acc: 0.6452\n",
            "Epoch 123/200\n",
            "3173/3173 [==============================] - 8s 2ms/step - loss: 1.0634 - acc: 0.6698 - val_loss: 1.1218 - val_acc: 0.6583\n",
            "Epoch 124/200\n",
            "3173/3173 [==============================] - 8s 3ms/step - loss: 1.0698 - acc: 0.6680 - val_loss: 1.1038 - val_acc: 0.6627\n",
            "Epoch 125/200\n",
            "3173/3173 [==============================] - 8s 2ms/step - loss: 1.0640 - acc: 0.6682 - val_loss: 1.1315 - val_acc: 0.6557\n",
            "Epoch 126/200\n",
            "3173/3173 [==============================] - 8s 3ms/step - loss: 1.0654 - acc: 0.6705 - val_loss: 1.1456 - val_acc: 0.6516\n",
            "Epoch 127/200\n",
            "3173/3173 [==============================] - 8s 3ms/step - loss: 1.0585 - acc: 0.6704 - val_loss: 1.1213 - val_acc: 0.6553\n",
            "Epoch 128/200\n",
            "3173/3173 [==============================] - 8s 3ms/step - loss: 1.0582 - acc: 0.6703 - val_loss: 1.1716 - val_acc: 0.6438\n",
            "Epoch 129/200\n",
            "3173/3173 [==============================] - 8s 2ms/step - loss: 1.0623 - acc: 0.6692 - val_loss: 1.1116 - val_acc: 0.6612\n",
            "Epoch 130/200\n",
            "3173/3173 [==============================] - 8s 3ms/step - loss: 1.0570 - acc: 0.6711 - val_loss: 1.1377 - val_acc: 0.6478\n",
            "Epoch 131/200\n",
            "3173/3173 [==============================] - 8s 3ms/step - loss: 1.0584 - acc: 0.6735 - val_loss: 1.1503 - val_acc: 0.6445\n",
            "Epoch 132/200\n",
            "3173/3173 [==============================] - 8s 3ms/step - loss: 1.0558 - acc: 0.6688 - val_loss: 1.1168 - val_acc: 0.6557\n",
            "Epoch 133/200\n",
            "3173/3173 [==============================] - 8s 3ms/step - loss: 1.0584 - acc: 0.6692 - val_loss: 1.1344 - val_acc: 0.6511\n",
            "Epoch 134/200\n",
            "3173/3173 [==============================] - 8s 2ms/step - loss: 1.0571 - acc: 0.6705 - val_loss: 1.1657 - val_acc: 0.6486\n",
            "Epoch 135/200\n",
            "3173/3173 [==============================] - 8s 2ms/step - loss: 1.0647 - acc: 0.6688 - val_loss: 1.0979 - val_acc: 0.6650\n",
            "Epoch 136/200\n",
            "3173/3173 [==============================] - 8s 2ms/step - loss: 1.0520 - acc: 0.6733 - val_loss: 1.1212 - val_acc: 0.6532\n",
            "Epoch 137/200\n",
            "3173/3173 [==============================] - 8s 2ms/step - loss: 1.0602 - acc: 0.6720 - val_loss: 1.1495 - val_acc: 0.6441\n",
            "Epoch 138/200\n",
            "3173/3173 [==============================] - 8s 2ms/step - loss: 1.0543 - acc: 0.6704 - val_loss: 1.1228 - val_acc: 0.6586\n",
            "Epoch 139/200\n",
            "3173/3173 [==============================] - 8s 2ms/step - loss: 1.0551 - acc: 0.6708 - val_loss: 1.1107 - val_acc: 0.6590\n",
            "Epoch 140/200\n",
            "3173/3173 [==============================] - 8s 2ms/step - loss: 1.0512 - acc: 0.6729 - val_loss: 1.1372 - val_acc: 0.6574\n",
            "Epoch 141/200\n",
            "3173/3173 [==============================] - 8s 3ms/step - loss: 1.0528 - acc: 0.6707 - val_loss: 1.1308 - val_acc: 0.6550\n",
            "Epoch 142/200\n",
            "3173/3173 [==============================] - 8s 2ms/step - loss: 1.0529 - acc: 0.6720 - val_loss: 1.1229 - val_acc: 0.6613\n",
            "Epoch 143/200\n",
            "3173/3173 [==============================] - 8s 2ms/step - loss: 1.0484 - acc: 0.6744 - val_loss: 1.1137 - val_acc: 0.6647\n",
            "Epoch 144/200\n",
            "3173/3173 [==============================] - 8s 3ms/step - loss: 1.0475 - acc: 0.6725 - val_loss: 1.1315 - val_acc: 0.6560\n",
            "Epoch 145/200\n",
            "3173/3173 [==============================] - 8s 3ms/step - loss: 1.0514 - acc: 0.6735 - val_loss: 1.1255 - val_acc: 0.6551\n",
            "Epoch 146/200\n",
            "3173/3173 [==============================] - 8s 2ms/step - loss: 1.0483 - acc: 0.6743 - val_loss: 1.1792 - val_acc: 0.6419\n",
            "Epoch 147/200\n",
            "3173/3173 [==============================] - 8s 2ms/step - loss: 1.0441 - acc: 0.6763 - val_loss: 1.1218 - val_acc: 0.6564\n",
            "Epoch 148/200\n",
            "3173/3173 [==============================] - 8s 2ms/step - loss: 1.0413 - acc: 0.6755 - val_loss: 1.1085 - val_acc: 0.6563\n",
            "Epoch 149/200\n",
            "3173/3173 [==============================] - 8s 2ms/step - loss: 1.0488 - acc: 0.6743 - val_loss: 1.0916 - val_acc: 0.6637\n",
            "Epoch 150/200\n",
            "3173/3173 [==============================] - 8s 2ms/step - loss: 1.0526 - acc: 0.6729 - val_loss: 1.1216 - val_acc: 0.6598\n",
            "Epoch 151/200\n",
            "3173/3173 [==============================] - 8s 2ms/step - loss: 1.0447 - acc: 0.6747 - val_loss: 1.0918 - val_acc: 0.6680\n",
            "Epoch 152/200\n",
            "3173/3173 [==============================] - 8s 3ms/step - loss: 1.0437 - acc: 0.6758 - val_loss: 1.1542 - val_acc: 0.6501\n",
            "Epoch 153/200\n",
            "3173/3173 [==============================] - 8s 3ms/step - loss: 1.0472 - acc: 0.6735 - val_loss: 1.1159 - val_acc: 0.6577\n",
            "Epoch 154/200\n",
            "3173/3173 [==============================] - 8s 2ms/step - loss: 1.0457 - acc: 0.6738 - val_loss: 1.0977 - val_acc: 0.6668\n",
            "Epoch 155/200\n",
            "3173/3173 [==============================] - 8s 2ms/step - loss: 1.0388 - acc: 0.6765 - val_loss: 1.1101 - val_acc: 0.6606\n",
            "Epoch 156/200\n",
            "3173/3173 [==============================] - 8s 2ms/step - loss: 1.0465 - acc: 0.6737 - val_loss: 1.1227 - val_acc: 0.6573\n",
            "Epoch 157/200\n",
            "3173/3173 [==============================] - 8s 3ms/step - loss: 1.0443 - acc: 0.6751 - val_loss: 1.1084 - val_acc: 0.6638\n",
            "Epoch 158/200\n",
            "3173/3173 [==============================] - 8s 2ms/step - loss: 1.0472 - acc: 0.6733 - val_loss: 1.0958 - val_acc: 0.6593\n",
            "Epoch 159/200\n",
            "3173/3173 [==============================] - 8s 3ms/step - loss: 1.0419 - acc: 0.6757 - val_loss: 1.1292 - val_acc: 0.6585\n",
            "Epoch 160/200\n",
            "3173/3173 [==============================] - 8s 3ms/step - loss: 1.0377 - acc: 0.6775 - val_loss: 1.1381 - val_acc: 0.6567\n",
            "Epoch 161/200\n",
            "3173/3173 [==============================] - 8s 2ms/step - loss: 1.0309 - acc: 0.6789 - val_loss: 1.1186 - val_acc: 0.6599\n",
            "Epoch 162/200\n",
            "3173/3173 [==============================] - 8s 2ms/step - loss: 1.0409 - acc: 0.6755 - val_loss: 1.1310 - val_acc: 0.6569\n",
            "Epoch 163/200\n",
            "3173/3173 [==============================] - 8s 2ms/step - loss: 1.0460 - acc: 0.6742 - val_loss: 1.1309 - val_acc: 0.6565\n",
            "Epoch 164/200\n",
            "3173/3173 [==============================] - 8s 2ms/step - loss: 1.0469 - acc: 0.6730 - val_loss: 1.0895 - val_acc: 0.6675\n",
            "Epoch 165/200\n",
            "3173/3173 [==============================] - 8s 2ms/step - loss: 1.0381 - acc: 0.6777 - val_loss: 1.1106 - val_acc: 0.6613\n",
            "Epoch 166/200\n",
            "3173/3173 [==============================] - 8s 2ms/step - loss: 1.0307 - acc: 0.6786 - val_loss: 1.1249 - val_acc: 0.6573\n",
            "Epoch 167/200\n",
            "3173/3173 [==============================] - 8s 2ms/step - loss: 1.0338 - acc: 0.6785 - val_loss: 1.1074 - val_acc: 0.6613\n",
            "Epoch 168/200\n",
            "3173/3173 [==============================] - 8s 3ms/step - loss: 1.0294 - acc: 0.6781 - val_loss: 1.1101 - val_acc: 0.6599\n",
            "Epoch 169/200\n",
            "3173/3173 [==============================] - 8s 2ms/step - loss: 1.0277 - acc: 0.6804 - val_loss: 1.1020 - val_acc: 0.6667\n",
            "Epoch 170/200\n",
            "3173/3173 [==============================] - 8s 3ms/step - loss: 1.0304 - acc: 0.6786 - val_loss: 1.1126 - val_acc: 0.6595\n",
            "Epoch 171/200\n",
            "3173/3173 [==============================] - 8s 3ms/step - loss: 1.0307 - acc: 0.6783 - val_loss: 1.0970 - val_acc: 0.6676\n",
            "Epoch 172/200\n",
            "3173/3173 [==============================] - 8s 2ms/step - loss: 1.0345 - acc: 0.6765 - val_loss: 1.0884 - val_acc: 0.6663\n",
            "Epoch 173/200\n",
            "3173/3173 [==============================] - 8s 3ms/step - loss: 1.0309 - acc: 0.6786 - val_loss: 1.1052 - val_acc: 0.6645\n",
            "Epoch 174/200\n",
            "3173/3173 [==============================] - 8s 3ms/step - loss: 1.0248 - acc: 0.6809 - val_loss: 1.0821 - val_acc: 0.6718\n",
            "Epoch 175/200\n",
            "3173/3173 [==============================] - 8s 2ms/step - loss: 1.0372 - acc: 0.6767 - val_loss: 1.1042 - val_acc: 0.6636\n",
            "Epoch 176/200\n",
            "3173/3173 [==============================] - 8s 3ms/step - loss: 1.0320 - acc: 0.6777 - val_loss: 1.1041 - val_acc: 0.6642\n",
            "Epoch 177/200\n",
            "3173/3173 [==============================] - 8s 2ms/step - loss: 1.0290 - acc: 0.6779 - val_loss: 1.1186 - val_acc: 0.6568\n",
            "Epoch 178/200\n",
            "3173/3173 [==============================] - 8s 3ms/step - loss: 1.0325 - acc: 0.6777 - val_loss: 1.1062 - val_acc: 0.6617\n",
            "Epoch 179/200\n",
            "3173/3173 [==============================] - 8s 3ms/step - loss: 1.0243 - acc: 0.6806 - val_loss: 1.1144 - val_acc: 0.6562\n",
            "Epoch 180/200\n",
            "3173/3173 [==============================] - 8s 3ms/step - loss: 1.0291 - acc: 0.6814 - val_loss: 1.0817 - val_acc: 0.6659\n",
            "Epoch 181/200\n",
            "3173/3173 [==============================] - 8s 3ms/step - loss: 1.0372 - acc: 0.6783 - val_loss: 1.0981 - val_acc: 0.6642\n",
            "Epoch 182/200\n",
            "3173/3173 [==============================] - 8s 3ms/step - loss: 1.0336 - acc: 0.6786 - val_loss: 1.1359 - val_acc: 0.6552\n",
            "Epoch 183/200\n",
            "3173/3173 [==============================] - 8s 3ms/step - loss: 1.0359 - acc: 0.6759 - val_loss: 1.1088 - val_acc: 0.6611\n",
            "Epoch 184/200\n",
            "3173/3173 [==============================] - 8s 3ms/step - loss: 1.0355 - acc: 0.6765 - val_loss: 1.0885 - val_acc: 0.6676\n",
            "Epoch 185/200\n",
            "3173/3173 [==============================] - 8s 3ms/step - loss: 1.0219 - acc: 0.6829 - val_loss: 1.1149 - val_acc: 0.6631\n",
            "Epoch 186/200\n",
            "3173/3173 [==============================] - 8s 2ms/step - loss: 1.0271 - acc: 0.6812 - val_loss: 1.1304 - val_acc: 0.6589\n",
            "Epoch 187/200\n",
            "3173/3173 [==============================] - 8s 2ms/step - loss: 1.0272 - acc: 0.6802 - val_loss: 1.0977 - val_acc: 0.6645\n",
            "Epoch 188/200\n",
            "3173/3173 [==============================] - 8s 2ms/step - loss: 1.0305 - acc: 0.6798 - val_loss: 1.0902 - val_acc: 0.6654\n",
            "Epoch 189/200\n",
            "3173/3173 [==============================] - 8s 2ms/step - loss: 1.0275 - acc: 0.6808 - val_loss: 1.1114 - val_acc: 0.6558\n",
            "Epoch 190/200\n",
            "3173/3173 [==============================] - 8s 3ms/step - loss: 1.0222 - acc: 0.6815 - val_loss: 1.0871 - val_acc: 0.6680\n",
            "Epoch 191/200\n",
            "3173/3173 [==============================] - 8s 3ms/step - loss: 1.0323 - acc: 0.6825 - val_loss: 1.1329 - val_acc: 0.6587\n",
            "Epoch 192/200\n",
            "3173/3173 [==============================] - 8s 2ms/step - loss: 1.0345 - acc: 0.6778 - val_loss: 1.0836 - val_acc: 0.6690\n",
            "Epoch 193/200\n",
            "3173/3173 [==============================] - 8s 3ms/step - loss: 1.0324 - acc: 0.6774 - val_loss: 1.1251 - val_acc: 0.6584\n",
            "Epoch 194/200\n",
            "3173/3173 [==============================] - 8s 2ms/step - loss: 1.0292 - acc: 0.6786 - val_loss: 1.0926 - val_acc: 0.6645\n",
            "Epoch 195/200\n",
            "3173/3173 [==============================] - 8s 3ms/step - loss: 1.0254 - acc: 0.6793 - val_loss: 1.1358 - val_acc: 0.6542\n",
            "Epoch 196/200\n",
            "3173/3173 [==============================] - 8s 3ms/step - loss: 1.0370 - acc: 0.6761 - val_loss: 1.1040 - val_acc: 0.6625\n",
            "Epoch 197/200\n",
            "3173/3173 [==============================] - 8s 3ms/step - loss: 1.0334 - acc: 0.6790 - val_loss: 1.0868 - val_acc: 0.6699\n",
            "Epoch 198/200\n",
            "3173/3173 [==============================] - 8s 3ms/step - loss: 1.0199 - acc: 0.6833 - val_loss: 1.1027 - val_acc: 0.6605\n",
            "Epoch 199/200\n",
            "3173/3173 [==============================] - 8s 3ms/step - loss: 1.0180 - acc: 0.6824 - val_loss: 1.1215 - val_acc: 0.6585\n",
            "Epoch 200/200\n",
            "3173/3173 [==============================] - 8s 3ms/step - loss: 1.0186 - acc: 0.6825 - val_loss: 1.1069 - val_acc: 0.6635\n"
          ],
          "name": "stdout"
        }
      ]
    },
    {
      "cell_type": "code",
      "metadata": {
        "id": "bLlkQp-d18Gt"
      },
      "source": [
        ""
      ],
      "execution_count": null,
      "outputs": []
    }
  ]
}