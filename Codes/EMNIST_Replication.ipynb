{
  "nbformat": 4,
  "nbformat_minor": 0,
  "metadata": {
    "accelerator": "GPU",
    "colab": {
      "name": "EMNIST_byClass_GPU.ipynb",
      "provenance": [],
      "collapsed_sections": [
        "LeHMNj5jKwHA",
        "BRWrGVIzKwRs",
        "BxKt62uvKwZn"
      ]
    },
    "kernelspec": {
      "display_name": "Python 3",
      "name": "python3"
    }
  },
  "cells": [
    {
      "cell_type": "markdown",
      "metadata": {
        "id": "view-in-github"
      },
      "source": [
        "<a href=\"https://colab.research.google.com/github/Giffy/EMNIST-character-recognition/blob/master/EMNIST_byClass_GPU_.ipynb\" target=\"_parent\"><img src=\"https://colab.research.google.com/assets/colab-badge.svg\" alt=\"Open In Colab\"/></a>"
      ]
    },
    {
      "cell_type": "markdown",
      "metadata": {
        "id": "jONSN35XKwCt"
      },
      "source": [
        "# EMNIST character classification by class\n",
        "\n",
        "This is the first approach to EMNIST character classification, based in reference code:\n",
        "\n",
        "https://github.com/j05t/emnist \n",
        "\n",
        "https://nextjournal.com/gkoehler/digit-recognition-with-keras\n"
      ]
    },
    {
      "cell_type": "markdown",
      "metadata": {
        "id": "fo0bCU7EDQHL"
      },
      "source": [
        "#Download dataset and inflate"
      ]
    },
    {
      "cell_type": "markdown",
      "metadata": {
        "id": "JQDyEQra28mx"
      },
      "source": [
        "## Download and inflate dataset"
      ]
    },
    {
      "cell_type": "code",
      "metadata": {
        "colab": {
          "base_uri": "https://localhost:8080/"
        },
        "id": "7HpNzvrfZ2Xi",
        "outputId": "9b72185f-cc65-4a94-a488-1985c0b9d20f"
      },
      "source": [
        "# Check if already downloaded\n",
        "check = !if [ -d 'dataset/' ]; then echo \"1\" ; else echo \"0\"; fi\n",
        "if (check[0] is '0' ):\n",
        "  !mkdir dataset\n",
        "  !wget 'https://www.itl.nist.gov/iaui/vip/cs_links/EMNIST/matlab.zip'\n",
        "  !unzip matlab.zip -d /content/dataset"
      ],
      "execution_count": null,
      "outputs": [
        {
          "output_type": "stream",
          "text": [
            "--2021-02-14 08:23:07--  https://www.itl.nist.gov/iaui/vip/cs_links/EMNIST/matlab.zip\n",
            "Resolving www.itl.nist.gov (www.itl.nist.gov)... 132.163.4.36, 2610:20:6b01:4::36\n",
            "Connecting to www.itl.nist.gov (www.itl.nist.gov)|132.163.4.36|:443... connected.\n",
            "HTTP request sent, awaiting response... 200 OK\n",
            "Length: 743900280 (709M) [application/zip]\n",
            "Saving to: ‘matlab.zip’\n",
            "\n",
            "matlab.zip          100%[===================>] 709.44M  98.9MB/s    in 7.3s    \n",
            "\n",
            "2021-02-14 08:23:14 (96.7 MB/s) - ‘matlab.zip’ saved [743900280/743900280]\n",
            "\n",
            "Archive:  matlab.zip\n",
            "  inflating: /content/dataset/matlab/emnist-balanced.mat  \n",
            "  inflating: /content/dataset/matlab/emnist-byclass.mat  \n",
            "  inflating: /content/dataset/matlab/emnist-bymerge.mat  \n",
            "  inflating: /content/dataset/matlab/emnist-digits.mat  \n",
            "  inflating: /content/dataset/matlab/emnist-letters.mat  \n",
            "  inflating: /content/dataset/matlab/emnist-mnist.mat  \n"
          ],
          "name": "stdout"
        }
      ]
    },
    {
      "cell_type": "markdown",
      "metadata": {
        "id": "LLNOGDy6KwDL"
      },
      "source": [
        "## Importing libraries"
      ]
    },
    {
      "cell_type": "code",
      "metadata": {
        "id": "QeWnXMacKwDk"
      },
      "source": [
        "import numpy as np\n",
        "%matplotlib inline"
      ],
      "execution_count": null,
      "outputs": []
    },
    {
      "cell_type": "code",
      "metadata": {
        "colab": {
          "base_uri": "https://localhost:8080/"
        },
        "id": "8d_Zztq6E1zl",
        "outputId": "1958ed08-22f2-498b-8ba4-0d893d50a898"
      },
      "source": [
        "# Check if GPU is available\n",
        "import tensorflow as tf\n",
        "device_name = tf.test.gpu_device_name()\n",
        "if device_name != '/device:GPU:0':\n",
        "  raise SystemError('GPU device not found, to activate the GPU go to menu \"Runtime\" and submenu \"Change runtime type\", then change hardware accelerator from None to GPU.')\n",
        "print('Found GPU at: {}'.format(device_name))"
      ],
      "execution_count": null,
      "outputs": [
        {
          "output_type": "stream",
          "text": [
            "Found GPU at: /device:GPU:0\n"
          ],
          "name": "stdout"
        }
      ]
    },
    {
      "cell_type": "markdown",
      "metadata": {
        "id": "LeHMNj5jKwHA"
      },
      "source": [
        "# Load EMNIST Characters dataset by Class\n",
        "Introduced by https://arxiv.org/abs/1702.05373v1 downloaded from https://www.nist.gov/itl/iad/image-group/emnist-dataset (Matlab format dataset). The matlab format dataset can be conveniently imported with scipy.io.loadmat."
      ]
    },
    {
      "cell_type": "code",
      "metadata": {
        "id": "kKCYBNu-aW67"
      },
      "source": [
        "from scipy import io as spio\n",
        "emnist = spio.loadmat(\"/content/dataset/matlab/emnist-balanced.mat\")"
      ],
      "execution_count": null,
      "outputs": []
    },
    {
      "cell_type": "code",
      "metadata": {
        "id": "aWN-q6ntKwIX"
      },
      "source": [
        "# load training dataset\n",
        "x_train = emnist[\"dataset\"][0][0][0][0][0][0]\n",
        "x_train = x_train.astype(np.float32)\n",
        "\n",
        "# load training labels\n",
        "y_train = emnist[\"dataset\"][0][0][0][0][0][1]"
      ],
      "execution_count": null,
      "outputs": []
    },
    {
      "cell_type": "code",
      "metadata": {
        "id": "w0hyN09iKwJO"
      },
      "source": [
        "# load test dataset\n",
        "x_test = emnist[\"dataset\"][0][0][1][0][0][0]\n",
        "x_test = x_test.astype(np.float32)\n",
        "\n",
        "# load test labels\n",
        "y_test = emnist[\"dataset\"][0][0][1][0][0][1]"
      ],
      "execution_count": null,
      "outputs": []
    },
    {
      "cell_type": "code",
      "metadata": {
        "colab": {
          "base_uri": "https://localhost:8080/"
        },
        "id": "8PNUgYCSKwJ_",
        "outputId": "6c8ca44e-e6c5-4a6e-fc34-93d2d3819759"
      },
      "source": [
        "# store labels for visualization\n",
        "train_labels = y_train\n",
        "test_labels = y_test\n",
        "\n",
        "print (x_train.shape)\n",
        "print (y_train.shape)"
      ],
      "execution_count": null,
      "outputs": [
        {
          "output_type": "stream",
          "text": [
            "(112800, 784)\n",
            "(112800, 1)\n"
          ],
          "name": "stdout"
        }
      ]
    },
    {
      "cell_type": "code",
      "metadata": {
        "colab": {
          "base_uri": "https://localhost:8080/"
        },
        "id": "P477eyC1KwOf",
        "outputId": "84580f02-52c5-4b9a-ae3b-fefba21480ff"
      },
      "source": [
        "# Preprocess input data, reshape using matlab order\n",
        "x_train = x_train.reshape(x_train.shape[0], 28, 28, 1, order=\"A\")\n",
        "x_test = x_test.reshape(x_test.shape[0], 28, 28, 1, order=\"A\")\n",
        "\n",
        "\n",
        "## normalized to 16 colours instead of 255\n",
        "numberofcolors = 16\n",
        "colors = 255//(numberofcolors-1)\n",
        "x_train /= colors\n",
        "x_test /= colors\n",
        "\n",
        "x_train.shape"
      ],
      "execution_count": null,
      "outputs": [
        {
          "output_type": "execute_result",
          "data": {
            "text/plain": [
              "(112800, 28, 28, 1)"
            ]
          },
          "metadata": {
            "tags": []
          },
          "execution_count": 8
        }
      ]
    },
    {
      "cell_type": "code",
      "metadata": {
        "colab": {
          "base_uri": "https://localhost:8080/"
        },
        "id": "BcUFOIvUKwQz",
        "outputId": "5f4d1f50-e490-438f-8c12-c322946206cc"
      },
      "source": [
        "from keras.utils import np_utils\n",
        "\n",
        "# Preprocess class labels\n",
        "## EMNIST ByClass: 814,255 characters. 62 unbalanced classes.\n",
        "## Convert 1-dimensional class arrays to 62-dimensional class matrices\n",
        "\n",
        "number_classes = 62\n",
        "\n",
        "y_train = np_utils.to_categorical(y_train, number_classes )\n",
        "y_test = np_utils.to_categorical(y_test,  number_classes )\n",
        "\n",
        "print (y_train.shape)\n",
        "print (y_test.shape)"
      ],
      "execution_count": null,
      "outputs": [
        {
          "output_type": "stream",
          "text": [
            "(112800, 62)\n",
            "(18800, 62)\n"
          ],
          "name": "stdout"
        }
      ]
    },
    {
      "cell_type": "markdown",
      "metadata": {
        "id": "BRWrGVIzKwRs"
      },
      "source": [
        "## Analyze imported data"
      ]
    },
    {
      "cell_type": "code",
      "metadata": {
        "id": "MQ3ixO_QUT_6"
      },
      "source": [
        "class_idx = ['0','1','2','3','4','5','6','7','8','9',\n",
        "             'A','B','C','D','E','F','G','H','I','J','K','L','M','N','O','P','Q','R','S','T','U','V','W','X','Y','Z',\n",
        "             'a','b','c','d','e','f','g','h','i','j','k','l','m','n','o','p','q','r','s','t','u','v','w','x','y','z']"
      ],
      "execution_count": null,
      "outputs": []
    },
    {
      "cell_type": "code",
      "metadata": {
        "id": "e0jvobuJKwSs"
      },
      "source": [
        "# which sample to look at\n",
        "samplenum = 14500"
      ],
      "execution_count": null,
      "outputs": []
    },
    {
      "cell_type": "code",
      "metadata": {
        "colab": {
          "base_uri": "https://localhost:8080/"
        },
        "id": "9CJa7hUaKwTV",
        "scrolled": true,
        "outputId": "9b5103ec-31b7-4f1b-b873-4e3c4877692d"
      },
      "source": [
        "import matplotlib.pyplot as plt\n",
        "img = x_train[samplenum]\n",
        "\n",
        "# visualize image\n",
        "plt.imshow(img[:,:,0], cmap='gray')"
      ],
      "execution_count": null,
      "outputs": [
        {
          "output_type": "execute_result",
          "data": {
            "text/plain": [
              "<matplotlib.image.AxesImage at 0x7f0c2b7c8f60>"
            ]
          },
          "metadata": {
            "tags": []
          },
          "execution_count": 12
        },
        {
          "output_type": "display_data",
          "data": {
            "image/png": "[encoded data removed]",
            "text/plain": [
              "<Figure size 432x288 with 1 Axes>"
            ]
          },
          "metadata": {
            "tags": []
          }
        }
      ]
    },
    {
      "cell_type": "code",
      "metadata": {
        "colab": {
          "base_uri": "https://localhost:8080/"
        },
        "id": "hueA-3mwKwU4",
        "outputId": "abcaefa9-c1a9-4137-f335-d1e8f43f8592"
      },
      "source": [
        "# show label for sample image\n",
        "index = train_labels[samplenum][0]\n",
        "class_idx[ index ]"
      ],
      "execution_count": null,
      "outputs": [
        {
          "output_type": "execute_result",
          "data": {
            "application/vnd.google.colaboratory.intrinsic+json": {
              "type": "string"
            },
            "text/plain": [
              "'L'"
            ]
          },
          "metadata": {
            "tags": []
          },
          "execution_count": 13
        }
      ]
    },
    {
      "cell_type": "code",
      "metadata": {
        "colab": {
          "base_uri": "https://localhost:8080/"
        },
        "id": "3j34ohR0Ducm",
        "outputId": "ab7326d9-6f4e-4761-9b0a-8ed344600bf8"
      },
      "source": [
        "# visualize train samples\n",
        "fig = plt.figure(figsize=(12,6))\n",
        "for i in range(12):\n",
        "  rows = 2\n",
        "  columns = 12\n",
        "  sp = fig.add_subplot( rows, columns , i+1)                 # plot a matrix with 2 rows and 12 columns\n",
        "  sp.axis('Off')                                             # removes background grill\n",
        "  img = x_train[i]                                        \n",
        "  plt.imshow(img[:,:,0], cmap='gray', interpolation='none')  # prints image\n",
        "  index = train_labels[i][0]\n",
        "  plt.title(\"Letter: \" + str( class_idx[ index ] ))          # adds title to the letter or number"
      ],
      "execution_count": null,
      "outputs": [
        {
          "output_type": "display_data",
          "data": {
            "image/png": "[encoded data removed]",
            "text/plain": [
              "<Figure size 864x432 with 12 Axes>"
            ]
          },
          "metadata": {
            "tags": []
          }
        }
      ]
    },
    {
      "cell_type": "markdown",
      "metadata": {
        "id": "Y6xANdOiKwVz"
      },
      "source": [
        "## Reshape test labels"
      ]
    },
    {
      "cell_type": "code",
      "metadata": {
        "colab": {
          "base_uri": "https://localhost:8080/"
        },
        "id": "ggjspOKhKwV-",
        "outputId": "151444a2-520d-4733-8100-42e4ad452bc8"
      },
      "source": [
        "print ( test_labels.shape )\n",
        "reshape = str(test_labels.shape).split(',')\n",
        "reshape = int(reshape[0][1:])"
      ],
      "execution_count": null,
      "outputs": [
        {
          "output_type": "stream",
          "text": [
            "(18800, 1)\n"
          ],
          "name": "stdout"
        }
      ]
    },
    {
      "cell_type": "code",
      "metadata": {
        "colab": {
          "base_uri": "https://localhost:8080/"
        },
        "id": "xkeeny9rKwWc",
        "outputId": "8456f07e-6dd4-4299-c1af-f90b06700e2b"
      },
      "source": [
        "test_labels = test_labels.reshape( reshape )\n",
        "test_labels.shape"
      ],
      "execution_count": null,
      "outputs": [
        {
          "output_type": "execute_result",
          "data": {
            "text/plain": [
              "(18800,)"
            ]
          },
          "metadata": {
            "tags": []
          },
          "execution_count": 16
        }
      ]
    },
    {
      "cell_type": "markdown",
      "metadata": {
        "id": "BxKt62uvKwZn"
      },
      "source": [
        "## Data augmentation\n",
        "Use keras data augmentation."
      ]
    },
    {
      "cell_type": "code",
      "metadata": {
        "id": "QRRBoXBJKwZx"
      },
      "source": [
        "batch_size = 512"
      ],
      "execution_count": null,
      "outputs": []
    },
    {
      "cell_type": "code",
      "metadata": {
        "id": "Ncv7DoECKwaU"
      },
      "source": [
        "from keras.preprocessing.image import ImageDataGenerator"
      ],
      "execution_count": null,
      "outputs": []
    },
    {
      "cell_type": "code",
      "metadata": {
        "id": "Ywjx6EWRKwau"
      },
      "source": [
        "gen = ImageDataGenerator(rotation_range=12, width_shift_range=0.1, shear_range=0.3,\n",
        "                        height_shift_range=0.1, zoom_range=0.1, data_format='channels_last')\n",
        "batches = gen.flow(x_train, y_train, batch_size=batch_size)\n",
        "test_batches = gen.flow(x_test, y_test, batch_size=batch_size)\n",
        "steps_per_epoch = int(np.ceil(batches.n/batch_size))\n",
        "validation_steps = int(np.ceil(test_batches.n/batch_size))"
      ],
      "execution_count": null,
      "outputs": []
    },
    {
      "cell_type": "code",
      "metadata": {
        "colab": {
          "base_uri": "https://localhost:8080/"
        },
        "id": "-FDpnFlyKwbQ",
        "outputId": "dd0fec31-37db-48d0-8f28-92f4acaaec54"
      },
      "source": [
        "import matplotlib.pyplot as plt\n",
        "\n",
        "# load ONE image from training set to display on screen\n",
        "img = x_train[1]\n",
        "\n",
        "# visualize original image\n",
        "plt.imshow(img[:,:,0], cmap='gray')"
      ],
      "execution_count": null,
      "outputs": [
        {
          "output_type": "execute_result",
          "data": {
            "text/plain": [
              "<matplotlib.image.AxesImage at 0x7f0c2b02feb8>"
            ]
          },
          "metadata": {
            "tags": []
          },
          "execution_count": 20
        },
        {
          "output_type": "display_data",
          "data": {
            "image/png": "[encoded data removed]",
            "text/plain": [
              "<Figure size 432x288 with 1 Axes>"
            ]
          },
          "metadata": {
            "tags": []
          }
        }
      ]
    },
    {
      "cell_type": "code",
      "metadata": {
        "id": "ePhRmhflKwb1"
      },
      "source": [
        "# trick our generator into believing img has enough dimensions\n",
        "# and get some augmented images for our single test image\n",
        "img = np.expand_dims(img, axis=0)\n",
        "aug_iter = gen.flow(img)"
      ],
      "execution_count": null,
      "outputs": []
    },
    {
      "cell_type": "code",
      "metadata": {
        "colab": {
          "base_uri": "https://localhost:8080/"
        },
        "id": "1m6XdCS_KwcN",
        "outputId": "66e2c3e5-eab8-4c51-c8ca-3f18ada15d61"
      },
      "source": [
        "aug_img = next(aug_iter)[0].astype(np.float32)\n",
        "aug_img.shape"
      ],
      "execution_count": null,
      "outputs": [
        {
          "output_type": "execute_result",
          "data": {
            "text/plain": [
              "(28, 28, 1)"
            ]
          },
          "metadata": {
            "tags": []
          },
          "execution_count": 22
        }
      ]
    },
    {
      "cell_type": "code",
      "metadata": {
        "colab": {
          "base_uri": "https://localhost:8080/"
        },
        "id": "wsKl8FrSKwck",
        "outputId": "f7c9719c-98ea-464d-a0f5-e3fc802fbe38"
      },
      "source": [
        "import matplotlib.pyplot as plt\n",
        "\n",
        "# show augmented images\n",
        "f = plt.figure(figsize=(12,6))\n",
        "for i in range(8):\n",
        "    sp = f.add_subplot(2, 26//3, i+1)\n",
        "    sp.axis('Off')\n",
        "    aug_img = next(aug_iter)[0].astype(np.float32)\n",
        "    plt.imshow(aug_img[:,:,0], cmap='gray')                 # images are stored as (img_size, image_size, channel)  to print it we should call it img [;,;,0]"
      ],
      "execution_count": null,
      "outputs": [
        {
          "output_type": "display_data",
          "data": {
            "image/png": "[encoded data removed]",
            "text/plain": [
              "<Figure size 864x432 with 8 Axes>"
            ]
          },
          "metadata": {
            "tags": []
          }
        }
      ]
    },
    {
      "cell_type": "markdown",
      "metadata": {
        "id": "d18YSeUD9mrZ"
      },
      "source": [
        "# Build the network"
      ]
    },
    {
      "cell_type": "code",
      "metadata": {
        "id": "XxDl-hYAbdS-"
      },
      "source": [
        "import os                    # Load os\n",
        "import tensorflow as tf\n",
        "from tensorflow.keras.models import Sequential\n",
        "from tensorflow.keras.layers import Dense, Dropout, Activation, Flatten, Conv2D, MaxPooling2D"
      ],
      "execution_count": null,
      "outputs": []
    },
    {
      "cell_type": "code",
      "metadata": {
        "colab": {
          "base_uri": "https://localhost:8080/"
        },
        "id": "Ujbqs7B7f3jT",
        "outputId": "5a06bc97-1250-4601-8a86-65beaab3df62"
      },
      "source": [
        "x_train.shape"
      ],
      "execution_count": null,
      "outputs": [
        {
          "output_type": "execute_result",
          "data": {
            "text/plain": [
              "(112800, 28, 28, 1)"
            ]
          },
          "metadata": {
            "tags": []
          },
          "execution_count": 25
        }
      ]
    },
    {
      "cell_type": "code",
      "metadata": {
        "colab": {
          "base_uri": "https://localhost:8080/"
        },
        "id": "JF_L_R0uf6Bx",
        "outputId": "c401ab9d-1b43-441a-8042-1ef39c9abeb3"
      },
      "source": [
        "len (y_train)"
      ],
      "execution_count": null,
      "outputs": [
        {
          "output_type": "execute_result",
          "data": {
            "text/plain": [
              "112800"
            ]
          },
          "metadata": {
            "tags": []
          },
          "execution_count": 26
        }
      ]
    },
    {
      "cell_type": "code",
      "metadata": {
        "id": "rQGFA9hvNDf7"
      },
      "source": [
        "# Architecture model \n",
        "\n",
        "#  Input Vector :  784 pixels (28x28)\n",
        "#  Layer 1      :  128 nodes\n",
        "#  Layer 2      :  128 nodes\n",
        "#  Output Layer :  62 categories"
      ],
      "execution_count": null,
      "outputs": []
    },
    {
      "cell_type": "code",
      "metadata": {
        "id": "GD3Cu6zbbt8H"
      },
      "source": [
        "ly1_neurons = 128\n",
        "ly2_neurons = 128\n",
        "categories = 62\n",
        "\n",
        "# Define model architecture\n",
        "model = Sequential()\n",
        "\n",
        "## Input: 28x28 images with 1 channel -> (28, 28, 1) tensors.\n",
        "\n",
        "## First layer\n",
        "model.add(Conv2D(ly1_neurons, (3,3), input_shape = x_train.shape[1:]))    # adds 128 neurons with 3x3 window size\n",
        "model.add(Activation(\"relu\"))                                             # Activatior layer = relu (rectified linear regresion)\n",
        "model.add(MaxPooling2D(pool_size=(2,2)))\n",
        "model.add(Dropout(0.2))\n",
        "\n",
        "## Second layer\n",
        "model.add(Conv2D(ly2_neurons, (3,3)))                                     # adds 128 neurons with 3x3 window size\n",
        "model.add(Activation(\"relu\"))                                             # Activatior layer = relu (rectified linear regresion)\n",
        "model.add(MaxPooling2D(pool_size=(2,2)))\n",
        "model.add(Dropout(0.2))\n",
        "\n",
        "\n",
        "## Third layer\n",
        "model.add(Flatten())\n",
        "model.add(Dense( categories ))                                            # to clasify in 62 classes\n",
        "model.add(Activation('sigmoid'))                                          # Activatior layer = sigmoid"
      ],
      "execution_count": null,
      "outputs": []
    },
    {
      "cell_type": "markdown",
      "metadata": {
        "id": "MqgjRECMPvtw"
      },
      "source": [
        "#Compile the network"
      ]
    },
    {
      "cell_type": "code",
      "metadata": {
        "id": "L28A5LcrSgCy"
      },
      "source": [
        "# Compile model\n",
        "model.compile(loss='categorical_crossentropy',\n",
        "            optimizer='adam',\n",
        "            metrics=['accuracy'])"
      ],
      "execution_count": null,
      "outputs": []
    },
    {
      "cell_type": "markdown",
      "metadata": {
        "id": "0XFuLpxQXNa6"
      },
      "source": [
        "#Train the model"
      ]
    },
    {
      "cell_type": "code",
      "metadata": {
        "id": "yukxTCFAgNoZ"
      },
      "source": [
        "#  Log to be reviewed with tensorboard\n",
        "import time\n",
        "from tensorflow.keras.callbacks import TensorBoard\n",
        "\n",
        "#Define log name\n",
        "log_name = 'EMNIST byClass-cnn-'+str (ly1_neurons) +'x'+ str(ly2_neurons)+'-{}'.format(int(time.time()))\n",
        "tensorboard = TensorBoard(log_dir='logs/{}'.format(log_name))\n",
        "!mkdir /content/logs"
      ],
      "execution_count": null,
      "outputs": []
    },
    {
      "cell_type": "code",
      "metadata": {
        "colab": {
          "background_save": true,
          "base_uri": "https://localhost:8080/"
        },
        "id": "mmnEI7wubtq1",
        "outputId": "f6b386e0-4ad7-4801-9414-a8cd660116b4"
      },
      "source": [
        "batch_size = 128\n",
        "epochs = 100\n",
        "\n",
        "# Fit model on training data\n",
        "history = model.fit(x_train, y_train\n",
        "              , batch_size\n",
        "              , epochs\n",
        "              , verbose=1\n",
        "              , callbacks = [tensorboard]\n",
        "              , validation_data=(x_test, y_test)\n",
        "             )"
      ],
      "execution_count": null,
      "outputs": [
        {
          "output_type": "stream",
          "text": [
            "Epoch 1/100\n",
            "882/882 [==============================] - 16s 10ms/step - loss: 1.1562 - accuracy: 0.6752 - val_loss: 0.4598 - val_accuracy: 0.8497\n",
            "Epoch 2/100\n",
            "882/882 [==============================] - 8s 9ms/step - loss: 0.4350 - accuracy: 0.8540 - val_loss: 0.4220 - val_accuracy: 0.8558\n",
            "Epoch 3/100\n",
            "882/882 [==============================] - 8s 9ms/step - loss: 0.3774 - accuracy: 0.8693 - val_loss: 0.3896 - val_accuracy: 0.8679\n",
            "Epoch 4/100\n",
            "882/882 [==============================] - 8s 9ms/step - loss: 0.3351 - accuracy: 0.8815 - val_loss: 0.3842 - val_accuracy: 0.8710\n",
            "Epoch 5/100\n",
            "882/882 [==============================] - 8s 9ms/step - loss: 0.3152 - accuracy: 0.8869 - val_loss: 0.3668 - val_accuracy: 0.8757\n",
            "Epoch 6/100\n",
            "882/882 [==============================] - 8s 9ms/step - loss: 0.2855 - accuracy: 0.8935 - val_loss: 0.3621 - val_accuracy: 0.8783\n",
            "Epoch 7/100\n",
            "882/882 [==============================] - 8s 9ms/step - loss: 0.2733 - accuracy: 0.8990 - val_loss: 0.3670 - val_accuracy: 0.8785\n",
            "Epoch 8/100\n",
            "882/882 [==============================] - 8s 9ms/step - loss: 0.2597 - accuracy: 0.9029 - val_loss: 0.3689 - val_accuracy: 0.8765\n",
            "Epoch 9/100\n",
            "882/882 [==============================] - 8s 9ms/step - loss: 0.2496 - accuracy: 0.9041 - val_loss: 0.3717 - val_accuracy: 0.8820\n",
            "Epoch 10/100\n",
            "882/882 [==============================] - 8s 9ms/step - loss: 0.2409 - accuracy: 0.9079 - val_loss: 0.3817 - val_accuracy: 0.8749\n",
            "Epoch 11/100\n",
            "882/882 [==============================] - 8s 9ms/step - loss: 0.2344 - accuracy: 0.9098 - val_loss: 0.3780 - val_accuracy: 0.8753\n",
            "Epoch 12/100\n",
            "882/882 [==============================] - 8s 10ms/step - loss: 0.2219 - accuracy: 0.9133 - val_loss: 0.3826 - val_accuracy: 0.8767\n",
            "Epoch 13/100\n",
            "882/882 [==============================] - 8s 10ms/step - loss: 0.2144 - accuracy: 0.9162 - val_loss: 0.3962 - val_accuracy: 0.8735\n",
            "Epoch 14/100\n",
            "882/882 [==============================] - 9s 10ms/step - loss: 0.2081 - accuracy: 0.9180 - val_loss: 0.4081 - val_accuracy: 0.8763\n",
            "Epoch 15/100\n",
            "882/882 [==============================] - 8s 10ms/step - loss: 0.2050 - accuracy: 0.9194 - val_loss: 0.4028 - val_accuracy: 0.8747\n",
            "Epoch 16/100\n",
            "882/882 [==============================] - 9s 10ms/step - loss: 0.2007 - accuracy: 0.9200 - val_loss: 0.4096 - val_accuracy: 0.8766\n",
            "Epoch 17/100\n",
            "882/882 [==============================] - 8s 10ms/step - loss: 0.1929 - accuracy: 0.9236 - val_loss: 0.4068 - val_accuracy: 0.8782\n",
            "Epoch 18/100\n",
            "882/882 [==============================] - 8s 9ms/step - loss: 0.1880 - accuracy: 0.9248 - val_loss: 0.4127 - val_accuracy: 0.8768\n",
            "Epoch 19/100\n",
            "882/882 [==============================] - 8s 10ms/step - loss: 0.1867 - accuracy: 0.9252 - val_loss: 0.4256 - val_accuracy: 0.8730\n",
            "Epoch 20/100\n",
            "882/882 [==============================] - 8s 10ms/step - loss: 0.1798 - accuracy: 0.9277 - val_loss: 0.4363 - val_accuracy: 0.8746\n",
            "Epoch 21/100\n",
            "882/882 [==============================] - 8s 10ms/step - loss: 0.1791 - accuracy: 0.9279 - val_loss: 0.4336 - val_accuracy: 0.8780\n",
            "Epoch 22/100\n",
            "882/882 [==============================] - 8s 10ms/step - loss: 0.1720 - accuracy: 0.9317 - val_loss: 0.4395 - val_accuracy: 0.8734\n",
            "Epoch 23/100\n",
            "882/882 [==============================] - 8s 10ms/step - loss: 0.1730 - accuracy: 0.9304 - val_loss: 0.4397 - val_accuracy: 0.8761\n",
            "Epoch 24/100\n",
            "882/882 [==============================] - 8s 10ms/step - loss: 0.1673 - accuracy: 0.9326 - val_loss: 0.4500 - val_accuracy: 0.8728\n",
            "Epoch 25/100\n",
            "882/882 [==============================] - 8s 10ms/step - loss: 0.1668 - accuracy: 0.9324 - val_loss: 0.4493 - val_accuracy: 0.8731\n",
            "Epoch 26/100\n",
            "882/882 [==============================] - 8s 10ms/step - loss: 0.1675 - accuracy: 0.9334 - val_loss: 0.4633 - val_accuracy: 0.8744\n",
            "Epoch 27/100\n",
            "882/882 [==============================] - 9s 10ms/step - loss: 0.1646 - accuracy: 0.9329 - val_loss: 0.4685 - val_accuracy: 0.8761\n",
            "Epoch 28/100\n",
            "882/882 [==============================] - 8s 10ms/step - loss: 0.1598 - accuracy: 0.9350 - val_loss: 0.4783 - val_accuracy: 0.8724\n",
            "Epoch 29/100\n",
            "882/882 [==============================] - 9s 10ms/step - loss: 0.1575 - accuracy: 0.9362 - val_loss: 0.4800 - val_accuracy: 0.8720\n",
            "Epoch 30/100\n",
            "882/882 [==============================] - 8s 10ms/step - loss: 0.1591 - accuracy: 0.9353 - val_loss: 0.4675 - val_accuracy: 0.8746\n",
            "Epoch 31/100\n",
            "882/882 [==============================] - 9s 10ms/step - loss: 0.1545 - accuracy: 0.9380 - val_loss: 0.4983 - val_accuracy: 0.8728\n",
            "Epoch 32/100\n",
            "882/882 [==============================] - 9s 10ms/step - loss: 0.1502 - accuracy: 0.9389 - val_loss: 0.4865 - val_accuracy: 0.8755\n",
            "Epoch 33/100\n",
            "882/882 [==============================] - 8s 10ms/step - loss: 0.1515 - accuracy: 0.9390 - val_loss: 0.4968 - val_accuracy: 0.8730\n",
            "Epoch 34/100\n",
            "882/882 [==============================] - 8s 10ms/step - loss: 0.1467 - accuracy: 0.9398 - val_loss: 0.5127 - val_accuracy: 0.8706\n",
            "Epoch 35/100\n",
            "882/882 [==============================] - 8s 10ms/step - loss: 0.1499 - accuracy: 0.9384 - val_loss: 0.5033 - val_accuracy: 0.8728\n",
            "Epoch 36/100\n",
            "882/882 [==============================] - 8s 10ms/step - loss: 0.1455 - accuracy: 0.9408 - val_loss: 0.5131 - val_accuracy: 0.8707\n",
            "Epoch 37/100\n",
            "882/882 [==============================] - 8s 10ms/step - loss: 0.1473 - accuracy: 0.9407 - val_loss: 0.5300 - val_accuracy: 0.8734\n",
            "Epoch 38/100\n",
            "882/882 [==============================] - 8s 10ms/step - loss: 0.1468 - accuracy: 0.9402 - val_loss: 0.5218 - val_accuracy: 0.8701\n",
            "Epoch 39/100\n",
            "882/882 [==============================] - 8s 10ms/step - loss: 0.1435 - accuracy: 0.9418 - val_loss: 0.5326 - val_accuracy: 0.8709\n",
            "Epoch 40/100\n",
            "882/882 [==============================] - 8s 10ms/step - loss: 0.1426 - accuracy: 0.9430 - val_loss: 0.5421 - val_accuracy: 0.8704\n",
            "Epoch 41/100\n",
            "882/882 [==============================] - 8s 10ms/step - loss: 0.1451 - accuracy: 0.9405 - val_loss: 0.5279 - val_accuracy: 0.8729\n",
            "Epoch 42/100\n",
            "882/882 [==============================] - 8s 10ms/step - loss: 0.1446 - accuracy: 0.9411 - val_loss: 0.5298 - val_accuracy: 0.8695\n",
            "Epoch 43/100\n",
            "882/882 [==============================] - 8s 10ms/step - loss: 0.1367 - accuracy: 0.9450 - val_loss: 0.5406 - val_accuracy: 0.8694\n",
            "Epoch 44/100\n",
            "882/882 [==============================] - 8s 10ms/step - loss: 0.1392 - accuracy: 0.9440 - val_loss: 0.5364 - val_accuracy: 0.8687\n",
            "Epoch 45/100\n",
            "882/882 [==============================] - 8s 10ms/step - loss: 0.1362 - accuracy: 0.9455 - val_loss: 0.5578 - val_accuracy: 0.8709\n",
            "Epoch 46/100\n",
            "882/882 [==============================] - 8s 10ms/step - loss: 0.1333 - accuracy: 0.9462 - val_loss: 0.5526 - val_accuracy: 0.8683\n",
            "Epoch 47/100\n",
            "882/882 [==============================] - 8s 10ms/step - loss: 0.1359 - accuracy: 0.9460 - val_loss: 0.5734 - val_accuracy: 0.8700\n",
            "Epoch 48/100\n",
            "882/882 [==============================] - 8s 10ms/step - loss: 0.1363 - accuracy: 0.9459 - val_loss: 0.5540 - val_accuracy: 0.8665\n",
            "Epoch 49/100\n",
            "882/882 [==============================] - 8s 10ms/step - loss: 0.1364 - accuracy: 0.9458 - val_loss: 0.5614 - val_accuracy: 0.8727\n",
            "Epoch 50/100\n",
            "882/882 [==============================] - 9s 10ms/step - loss: 0.1335 - accuracy: 0.9469 - val_loss: 0.5772 - val_accuracy: 0.8690\n",
            "Epoch 51/100\n",
            "882/882 [==============================] - 8s 10ms/step - loss: 0.1314 - accuracy: 0.9474 - val_loss: 0.5718 - val_accuracy: 0.8662\n",
            "Epoch 52/100\n",
            "882/882 [==============================] - 9s 10ms/step - loss: 0.1361 - accuracy: 0.9463 - val_loss: 0.5833 - val_accuracy: 0.8672\n",
            "Epoch 53/100\n",
            "882/882 [==============================] - 9s 10ms/step - loss: 0.1299 - accuracy: 0.9477 - val_loss: 0.5844 - val_accuracy: 0.8722\n",
            "Epoch 54/100\n",
            "882/882 [==============================] - 8s 10ms/step - loss: 0.1342 - accuracy: 0.9462 - val_loss: 0.5893 - val_accuracy: 0.8678\n",
            "Epoch 55/100\n",
            "882/882 [==============================] - 8s 10ms/step - loss: 0.1324 - accuracy: 0.9478 - val_loss: 0.5979 - val_accuracy: 0.8723\n",
            "Epoch 56/100\n",
            "882/882 [==============================] - 8s 10ms/step - loss: 0.1293 - accuracy: 0.9487 - val_loss: 0.5927 - val_accuracy: 0.8688\n",
            "Epoch 57/100\n",
            "882/882 [==============================] - 8s 10ms/step - loss: 0.1293 - accuracy: 0.9485 - val_loss: 0.5916 - val_accuracy: 0.8684\n",
            "Epoch 58/100\n",
            "882/882 [==============================] - 8s 10ms/step - loss: 0.1295 - accuracy: 0.9488 - val_loss: 0.5969 - val_accuracy: 0.8687\n",
            "Epoch 59/100\n",
            "882/882 [==============================] - 8s 10ms/step - loss: 0.1276 - accuracy: 0.9491 - val_loss: 0.5966 - val_accuracy: 0.8703\n",
            "Epoch 60/100\n",
            "882/882 [==============================] - 8s 10ms/step - loss: 0.1278 - accuracy: 0.9484 - val_loss: 0.6040 - val_accuracy: 0.8703\n",
            "Epoch 61/100\n",
            "882/882 [==============================] - 8s 10ms/step - loss: 0.1263 - accuracy: 0.9490 - val_loss: 0.6161 - val_accuracy: 0.8696\n",
            "Epoch 62/100\n",
            "882/882 [==============================] - 8s 10ms/step - loss: 0.1302 - accuracy: 0.9480 - val_loss: 0.6142 - val_accuracy: 0.8693\n",
            "Epoch 63/100\n",
            "882/882 [==============================] - 8s 10ms/step - loss: 0.1252 - accuracy: 0.9511 - val_loss: 0.6097 - val_accuracy: 0.8707\n",
            "Epoch 64/100\n",
            "882/882 [==============================] - 8s 10ms/step - loss: 0.1249 - accuracy: 0.9509 - val_loss: 0.6194 - val_accuracy: 0.8705\n",
            "Epoch 65/100\n",
            "882/882 [==============================] - 8s 10ms/step - loss: 0.1277 - accuracy: 0.9495 - val_loss: 0.6380 - val_accuracy: 0.8697\n",
            "Epoch 66/100\n",
            "882/882 [==============================] - 8s 10ms/step - loss: 0.1231 - accuracy: 0.9512 - val_loss: 0.6368 - val_accuracy: 0.8705\n",
            "Epoch 67/100\n",
            "882/882 [==============================] - 8s 10ms/step - loss: 0.1263 - accuracy: 0.9495 - val_loss: 0.6411 - val_accuracy: 0.8697\n",
            "Epoch 68/100\n",
            "882/882 [==============================] - 8s 10ms/step - loss: 0.1220 - accuracy: 0.9513 - val_loss: 0.6239 - val_accuracy: 0.8679\n",
            "Epoch 69/100\n",
            "882/882 [==============================] - 8s 10ms/step - loss: 0.1269 - accuracy: 0.9501 - val_loss: 0.6517 - val_accuracy: 0.8681\n",
            "Epoch 70/100\n",
            "882/882 [==============================] - 8s 10ms/step - loss: 0.1227 - accuracy: 0.9522 - val_loss: 0.6462 - val_accuracy: 0.8723\n",
            "Epoch 71/100\n",
            "882/882 [==============================] - 8s 10ms/step - loss: 0.1240 - accuracy: 0.9507 - val_loss: 0.6412 - val_accuracy: 0.8691\n",
            "Epoch 72/100\n",
            "882/882 [==============================] - 8s 10ms/step - loss: 0.1196 - accuracy: 0.9523 - val_loss: 0.6619 - val_accuracy: 0.8707\n",
            "Epoch 73/100\n",
            "882/882 [==============================] - 9s 10ms/step - loss: 0.1212 - accuracy: 0.9518 - val_loss: 0.6688 - val_accuracy: 0.8663\n",
            "Epoch 74/100\n",
            "882/882 [==============================] - 8s 10ms/step - loss: 0.1257 - accuracy: 0.9515 - val_loss: 0.6467 - val_accuracy: 0.8698\n",
            "Epoch 75/100\n",
            "882/882 [==============================] - 8s 10ms/step - loss: 0.1200 - accuracy: 0.9523 - val_loss: 0.6850 - val_accuracy: 0.8659\n",
            "Epoch 76/100\n",
            "882/882 [==============================] - 8s 10ms/step - loss: 0.1218 - accuracy: 0.9527 - val_loss: 0.6736 - val_accuracy: 0.8690\n",
            "Epoch 77/100\n",
            "882/882 [==============================] - 8s 10ms/step - loss: 0.1204 - accuracy: 0.9526 - val_loss: 0.6385 - val_accuracy: 0.8688\n",
            "Epoch 78/100\n",
            "882/882 [==============================] - 8s 10ms/step - loss: 0.1170 - accuracy: 0.9544 - val_loss: 0.6794 - val_accuracy: 0.8679\n",
            "Epoch 79/100\n",
            "882/882 [==============================] - 8s 10ms/step - loss: 0.1202 - accuracy: 0.9534 - val_loss: 0.6682 - val_accuracy: 0.8702\n",
            "Epoch 80/100\n",
            "882/882 [==============================] - 8s 10ms/step - loss: 0.1204 - accuracy: 0.9531 - val_loss: 0.6663 - val_accuracy: 0.8691\n",
            "Epoch 81/100\n",
            "882/882 [==============================] - 8s 10ms/step - loss: 0.1185 - accuracy: 0.9534 - val_loss: 0.6867 - val_accuracy: 0.8661\n",
            "Epoch 82/100\n",
            "882/882 [==============================] - 8s 10ms/step - loss: 0.1182 - accuracy: 0.9539 - val_loss: 0.6732 - val_accuracy: 0.8679\n",
            "Epoch 83/100\n",
            "882/882 [==============================] - 9s 10ms/step - loss: 0.1181 - accuracy: 0.9539 - val_loss: 0.6763 - val_accuracy: 0.8693\n",
            "Epoch 84/100\n",
            "882/882 [==============================] - 9s 10ms/step - loss: 0.1147 - accuracy: 0.9549 - val_loss: 0.7032 - val_accuracy: 0.8696\n",
            "Epoch 85/100\n",
            "882/882 [==============================] - 9s 10ms/step - loss: 0.1195 - accuracy: 0.9538 - val_loss: 0.6739 - val_accuracy: 0.8699\n",
            "Epoch 86/100\n",
            "882/882 [==============================] - 9s 10ms/step - loss: 0.1186 - accuracy: 0.9533 - val_loss: 0.7004 - val_accuracy: 0.8694\n",
            "Epoch 87/100\n",
            "882/882 [==============================] - 8s 10ms/step - loss: 0.1176 - accuracy: 0.9541 - val_loss: 0.6833 - val_accuracy: 0.8699\n",
            "Epoch 88/100\n",
            "882/882 [==============================] - 8s 10ms/step - loss: 0.1161 - accuracy: 0.9552 - val_loss: 0.7195 - val_accuracy: 0.8684\n",
            "Epoch 89/100\n",
            "882/882 [==============================] - 9s 10ms/step - loss: 0.1158 - accuracy: 0.9557 - val_loss: 0.6941 - val_accuracy: 0.8655\n",
            "Epoch 90/100\n",
            "882/882 [==============================] - 9s 10ms/step - loss: 0.1183 - accuracy: 0.9539 - val_loss: 0.6976 - val_accuracy: 0.8676\n",
            "Epoch 91/100\n",
            "882/882 [==============================] - 9s 10ms/step - loss: 0.1149 - accuracy: 0.9555 - val_loss: 0.6645 - val_accuracy: 0.8678\n",
            "Epoch 92/100\n",
            "882/882 [==============================] - 9s 10ms/step - loss: 0.1132 - accuracy: 0.9556 - val_loss: 0.6979 - val_accuracy: 0.8651\n",
            "Epoch 93/100\n",
            "882/882 [==============================] - 9s 10ms/step - loss: 0.1167 - accuracy: 0.9553 - val_loss: 0.6780 - val_accuracy: 0.8657\n",
            "Epoch 94/100\n",
            "882/882 [==============================] - 8s 10ms/step - loss: 0.1156 - accuracy: 0.9554 - val_loss: 0.6877 - val_accuracy: 0.8700\n",
            "Epoch 95/100\n",
            "882/882 [==============================] - 8s 10ms/step - loss: 0.1142 - accuracy: 0.9555 - val_loss: 0.7189 - val_accuracy: 0.8690\n",
            "Epoch 96/100\n",
            "882/882 [==============================] - 9s 10ms/step - loss: 0.1152 - accuracy: 0.9555 - val_loss: 0.6865 - val_accuracy: 0.8695\n",
            "Epoch 97/100\n",
            "882/882 [==============================] - 8s 10ms/step - loss: 0.1183 - accuracy: 0.9546 - val_loss: 0.7350 - val_accuracy: 0.8685\n",
            "Epoch 98/100\n",
            "882/882 [==============================] - 8s 10ms/step - loss: 0.1115 - accuracy: 0.9564 - val_loss: 0.7189 - val_accuracy: 0.8698\n",
            "Epoch 99/100\n",
            "882/882 [==============================] - 9s 10ms/step - loss: 0.1134 - accuracy: 0.9566 - val_loss: 0.7087 - val_accuracy: 0.8650\n",
            "Epoch 100/100\n",
            "882/882 [==============================] - 9s 10ms/step - loss: 0.1099 - accuracy: 0.9571 - val_loss: 0.7203 - val_accuracy: 0.8695\n"
          ],
          "name": "stdout"
        }
      ]
    },
    {
      "cell_type": "markdown",
      "metadata": {
        "id": "R8t9saoOISiF"
      },
      "source": [
        "## Evaluate final accuracy"
      ]
    },
    {
      "cell_type": "code",
      "metadata": {
        "colab": {
          "background_save": true
        },
        "id": "SATtLUdE6kUN",
        "outputId": "17f5f372-917f-4289-e06e-23dfc435171d"
      },
      "source": [
        "# Evaluate model on test data\n",
        "loss, accuracy = model.evaluate(x_test, y_test, verbose=0)\n",
        "print ('Test loss ', loss )\n",
        "print ('Test accuracy ', accuracy )"
      ],
      "execution_count": null,
      "outputs": [
        {
          "output_type": "stream",
          "text": [
            "Test loss  0.7203287482261658\n",
            "Test accuracy  0.8695212602615356\n"
          ],
          "name": "stdout"
        }
      ]
    },
    {
      "cell_type": "markdown",
      "metadata": {
        "id": "ceIMuiUcYhv0"
      },
      "source": [
        "## Saving model"
      ]
    },
    {
      "cell_type": "code",
      "metadata": {
        "colab": {
          "background_save": true
        },
        "id": "Io6gV3b4D-be",
        "outputId": "313590e5-86e2-48f0-ed70-bac1de2434dc"
      },
      "source": [
        "save_dir = '/content/'\n",
        "model_name = 'model - '+str (ly1_neurons) +'x'+ str(ly2_neurons)+' bs:' + str(batch_size) +' ep:'+ str(epochs) +' acc:'+ str(round(accuracy, 3)) +' loss:' + str(round(loss, 3)) +' .h5'\n",
        "\n",
        "model_path = os.path.join(save_dir, model_name)\n",
        "model.save( model_path )\n",
        "print ('Saved trained model at ' + model_path )"
      ],
      "execution_count": null,
      "outputs": [
        {
          "output_type": "stream",
          "text": [
            "Saved trained model at /content/model - 128x128 bs:128 ep:100 acc:0.87 loss:0.72 .h5\n"
          ],
          "name": "stdout"
        }
      ]
    },
    {
      "cell_type": "markdown",
      "metadata": {
        "id": "tVHxIwfccMxW"
      },
      "source": [
        "##Predict image"
      ]
    },
    {
      "cell_type": "code",
      "metadata": {
        "colab": {
          "background_save": true
        },
        "id": "PvuHXEHRcwzO",
        "outputId": "b6f94946-92f8-482d-93cf-3a44bc837ed9"
      },
      "source": [
        "import random\n",
        "image_index = random.randint(1,len(x_test))\n",
        "\n",
        "image = x_test[image_index] # show label for sample image\n",
        "plt.imshow(image[:,:,0], cmap='gray', interpolation='none')\n",
        "\n",
        "image = np.expand_dims(image, axis=0)\n",
        "scores = model.predict(image)\n",
        "\n",
        "index = np.argmax(scores)\n",
        "plt.title(\"Letter: \" + str( class_idx[ index ] ))"
      ],
      "execution_count": null,
      "outputs": [
        {
          "output_type": "execute_result",
          "data": {
            "text/plain": [
              "Text(0.5, 1.0, 'Letter: 9')"
            ]
          },
          "metadata": {
            "tags": []
          },
          "execution_count": 0
        },
        {
          "output_type": "display_data",
          "data": {
            "image/png": "[encoded data removed]",
            "text/plain": [
              "<Figure size 432x288 with 1 Axes>"
            ]
          },
          "metadata": {
            "tags": []
          }
        }
      ]
    },
    {
      "cell_type": "markdown",
      "metadata": {
        "id": "Ev6wx9AZg6S3"
      },
      "source": [
        "# Plot training history"
      ]
    },
    {
      "cell_type": "code",
      "metadata": {
        "colab": {
          "background_save": true
        },
        "id": "QOgyrrBThsry",
        "outputId": "6c40cbf8-47ce-43b7-f230-f9f04dc1550a"
      },
      "source": [
        "# plotting the metrics\n",
        "fig = plt.figure()\n",
        "plt.subplot(2,1,1)\n",
        "plt.plot(history.history['accuracy'])\n",
        "plt.plot(history.history['val_accuracy'])\n",
        "plt.title('model accuracy')\n",
        "plt.ylabel('accuracy')\n",
        "plt.xlabel('epoch')\n",
        "plt.legend(['train', 'test'], loc='lower right')\n",
        "\n",
        "plt.subplot(2,1,2)\n",
        "plt.plot(history.history['loss'])\n",
        "plt.plot(history.history['val_loss'])\n",
        "plt.title('model loss')\n",
        "plt.ylabel('loss')\n",
        "plt.xlabel('epoch')\n",
        "plt.legend(['train', 'test'], loc='upper right')\n",
        "\n",
        "plt.tight_layout()"
      ],
      "execution_count": null,
      "outputs": [
        {
          "output_type": "display_data",
          "data": {
            "image/png": "[encoded data removed]",
            "text/plain": [
              "<Figure size 432x288 with 2 Axes>"
            ]
          },
          "metadata": {
            "tags": []
          }
        }
      ]
    },
    {
      "cell_type": "markdown",
      "metadata": {
        "id": "FDBsjAUtnwFQ"
      },
      "source": [
        "#Evaluate model performance"
      ]
    },
    {
      "cell_type": "code",
      "metadata": {
        "colab": {
          "background_save": true
        },
        "id": "KjKAN0KSnvo1",
        "outputId": "53129a51-37c6-4457-f834-888212721967"
      },
      "source": [
        "# load the model and create predictions on the test set\n",
        "# model = load_model( model_name )\n",
        "predicted_classes = model.predict_classes(x_test)"
      ],
      "execution_count": null,
      "outputs": [
        {
          "output_type": "stream",
          "text": [
            "/usr/local/lib/python3.6/dist-packages/tensorflow/python/keras/engine/sequential.py:450: UserWarning: `model.predict_classes()` is deprecated and will be removed after 2021-01-01. Please use instead:* `np.argmax(model.predict(x), axis=-1)`,   if your model does multi-class classification   (e.g. if it uses a `softmax` last-layer activation).* `(model.predict(x) > 0.5).astype(\"int32\")`,   if your model does binary classification   (e.g. if it uses a `sigmoid` last-layer activation).\n",
            "  warnings.warn('`model.predict_classes()` is deprecated and '\n"
          ],
          "name": "stderr"
        }
      ]
    },
    {
      "cell_type": "code",
      "metadata": {
        "colab": {
          "background_save": true
        },
        "id": "yuDJiRpFv3wX",
        "outputId": "acd3ea07-faec-4545-933d-5d84b68c6d5f"
      },
      "source": [
        "# see which we predicted correctly and which not\n",
        "correct_indices = np.nonzero(predicted_classes == test_labels)[0]\n",
        "incorrect_indices = np.nonzero(predicted_classes != test_labels)[0]\n",
        "print()\n",
        "print(len(correct_indices),\" classified correctly\")\n",
        "print(len(incorrect_indices),\" classified incorrectly\")"
      ],
      "execution_count": null,
      "outputs": [
        {
          "output_type": "stream",
          "text": [
            "\n",
            "16331  classified correctly\n",
            "2469  classified incorrectly\n"
          ],
          "name": "stdout"
        }
      ]
    },
    {
      "cell_type": "markdown",
      "metadata": {
        "id": "FgA75pjXwlY7"
      },
      "source": [
        "## Visualize 12 correct prediction"
      ]
    },
    {
      "cell_type": "code",
      "metadata": {
        "colab": {
          "background_save": true
        },
        "id": "Wtfh3Ediv_70",
        "outputId": "742d38a3-dd73-4072-8eef-f60b4b927408"
      },
      "source": [
        "fig = plt.figure(figsize=(12,6))\n",
        "for i, correct in enumerate(correct_indices[:12]):\n",
        "  rows = 2\n",
        "  columns = 12\n",
        "  sp = fig.add_subplot( rows, columns , i+1)                 # plot a matrix with 2 rows and 12 columns\n",
        "  sp.axis('Off')                                             # removes background grill\n",
        "  img = x_train[i]                                        \n",
        "  plt.imshow(x_test[correct].reshape(28,28), cmap='gray', interpolation='none')  # prints image\n",
        "  plt.title(\n",
        "      'Predict: ' + str(class_idx[predicted_classes[correct]]) +\n",
        "      '\\nTruth: ' + str(class_idx[test_labels[correct]])\n",
        "  )"
      ],
      "execution_count": null,
      "outputs": [
        {
          "output_type": "display_data",
          "data": {
            "image/png": "[encoded data removed]",
            "text/plain": [
              "<Figure size 864x432 with 12 Axes>"
            ]
          },
          "metadata": {
            "tags": []
          }
        }
      ]
    },
    {
      "cell_type": "markdown",
      "metadata": {
        "id": "A29-89RcwsHp"
      },
      "source": [
        "## Visualize 12 incorrect prediction"
      ]
    },
    {
      "cell_type": "code",
      "metadata": {
        "colab": {
          "background_save": true
        },
        "id": "IXTkk8sTwyw_",
        "outputId": "150b1b5c-6707-43b4-9002-f95d618779c9"
      },
      "source": [
        "fig = plt.figure(figsize=(12,6))\n",
        "for i, correct in enumerate(incorrect_indices[:12]):\n",
        "  rows = 2\n",
        "  columns = 12\n",
        "  sp = fig.add_subplot( rows, columns , i+1)                 # plot a matrix with 2 rows and 12 columns\n",
        "  sp.axis('Off')                                             # removes background grill\n",
        "  img = x_train[i]                                        \n",
        "  plt.imshow(x_test[correct].reshape(28,28), cmap='gray', interpolation='none')  # prints image\n",
        "  plt.title(\n",
        "      'Predict: ' + str(class_idx[predicted_classes[correct]]) +\n",
        "      '\\nTruth: ' + str(class_idx[test_labels[correct]])\n",
        "  )"
      ],
      "execution_count": null,
      "outputs": [
        {
          "output_type": "display_data",
          "data": {
            "image/png": "[encoded data removed]",
            "text/plain": [
              "<Figure size 864x432 with 12 Axes>"
            ]
          },
          "metadata": {
            "tags": []
          }
        }
      ]
    }
  ]
}